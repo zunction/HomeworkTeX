{
 "cells": [
  {
   "cell_type": "code",
   "execution_count": 1,
   "metadata": {
    "collapsed": false
   },
   "outputs": [],
   "source": [
    "import numpy as np\n",
    "import matplotlib.pyplot as plt\n",
    "import seaborn as sns; sns.set()\n",
    "import os\n",
    "\n",
    "from scipy.stats import invgauss, norm\n",
    "\n",
    "from itertools import permutations\n",
    "\n",
    "%matplotlib inline"
   ]
  },
  {
   "cell_type": "markdown",
   "metadata": {},
   "source": [
    "#### 10.7b"
   ]
  },
  {
   "cell_type": "code",
   "execution_count": 2,
   "metadata": {
    "collapsed": false
   },
   "outputs": [],
   "source": [
    "T = np.array([.225, .262, .217, .240, .230, .229, .235, .217])\n",
    "S = np.array([.209, .205, .196, .210, .202, .207, .224, .223, .220, .201])"
   ]
  },
  {
   "cell_type": "code",
   "execution_count": 3,
   "metadata": {
    "collapsed": false
   },
   "outputs": [
    {
     "name": "stdout",
     "output_type": "stream",
     "text": [
      "[ 0.225  0.262  0.217  0.24   0.23   0.229  0.235  0.217  0.209  0.205\n",
      "  0.196  0.21   0.202  0.207  0.224  0.223  0.22   0.201]\n"
     ]
    }
   ],
   "source": [
    "TS = np.concatenate((T, S), axis = 0)\n",
    "print (TS)"
   ]
  },
  {
   "cell_type": "code",
   "execution_count": 4,
   "metadata": {
    "collapsed": true
   },
   "outputs": [],
   "source": [
    "def test_statistic(x):\n",
    "    return np.absolute(np.mean(x[: 8]) - np.mean(x[8: ]))"
   ]
  },
  {
   "cell_type": "code",
   "execution_count": 5,
   "metadata": {
    "collapsed": true
   },
   "outputs": [],
   "source": [
    "def perm_compute(x):\n",
    "    f = lambda x : np.random.shuffle(x)\n",
    "    g = lambda x : test_statistic(x)\n",
    "    f (x)\n",
    "    return g(x)"
   ]
  },
  {
   "cell_type": "code",
   "execution_count": 13,
   "metadata": {
    "collapsed": false
   },
   "outputs": [],
   "source": [
    "def perm_test(x):\n",
    "    ts_obs = test_statistic(x)\n",
    "    ts = [perm_compute(x) for n in np.arange(100000)]\n",
    "    ts = np.array(ts)\n",
    "    return np.mean(ts > ts_obs)"
   ]
  },
  {
   "cell_type": "code",
   "execution_count": 14,
   "metadata": {
    "collapsed": false
   },
   "outputs": [
    {
     "name": "stdout",
     "output_type": "stream",
     "text": [
      "0.00076\n",
      "0.00069\n",
      "0.00077\n",
      "0.00062\n",
      "0.00074\n",
      "0.00074\n",
      "0.00073\n",
      "0.00073\n",
      "0.0008\n",
      "0.00069\n"
     ]
    }
   ],
   "source": [
    "for i in np.arange(10):\n",
    "    TS = np.concatenate((T, S), axis = 0)\n",
    "    print (perm_test(TS))"
   ]
  },
  {
   "cell_type": "code",
   "execution_count": null,
   "metadata": {
    "collapsed": true
   },
   "outputs": [],
   "source": []
  },
  {
   "cell_type": "code",
   "execution_count": null,
   "metadata": {
    "collapsed": true
   },
   "outputs": [],
   "source": []
  },
  {
   "cell_type": "code",
   "execution_count": null,
   "metadata": {
    "collapsed": true
   },
   "outputs": [],
   "source": []
  },
  {
   "cell_type": "markdown",
   "metadata": {
    "collapsed": true
   },
   "source": [
    "#### 10.12"
   ]
  },
  {
   "cell_type": "code",
   "execution_count": null,
   "metadata": {
    "collapsed": true
   },
   "outputs": [],
   "source": [
    "def poisson_sample(l, n):\n",
    "    \"\"\"\n",
    "    Generates n Poisson distributed samples with parameter l.\n",
    "    \"\"\"\n",
    "    return np.random.poisson(lam = 1, size = n)"
   ]
  },
  {
   "cell_type": "code",
   "execution_count": null,
   "metadata": {
    "collapsed": false
   },
   "outputs": [],
   "source": [
    "def wald_test(sample, n = 20, alpha = .05, null_lambda = 1):\n",
    "    \"\"\"\n",
    "    Perfoms Wald test and returns p-value.\n",
    "    \"\"\"\n",
    "    xbar = np.mean(sample)\n",
    "    test_statistic = np.absolute((xbar - null_lambda)/ (null_lambda / n) ** 0.5)\n",
    "    return  2 * (1 - norm.cdf(test_statistic))"
   ]
  },
  {
   "cell_type": "code",
   "execution_count": null,
   "metadata": {
    "collapsed": false
   },
   "outputs": [],
   "source": [
    "def multwald(l = 1, n = 20, alpha = .05, null_lambda = 1, B = 10000):\n",
    "    \"\"\"\n",
    "    Performs Wald test B times and return proportion of test where null hypothesis is rejected.\n",
    "    \"\"\"\n",
    "    count = 0\n",
    "    for i in np.arange(B):\n",
    "        sample = poisson_sample(l, n)\n",
    "        if wald_test(sample) < alpha:\n",
    "            count += 1\n",
    "\n",
    "    return count/B"
   ]
  },
  {
   "cell_type": "code",
   "execution_count": null,
   "metadata": {
    "collapsed": false
   },
   "outputs": [],
   "source": [
    "multwald()"
   ]
  },
  {
   "cell_type": "markdown",
   "metadata": {
    "collapsed": true
   },
   "source": [
    "#### 11.4b"
   ]
  },
  {
   "cell_type": "code",
   "execution_count": null,
   "metadata": {
    "collapsed": true
   },
   "outputs": [],
   "source": [
    "mle_p1 = 3/5\n",
    "mle_p2 = 4/5\n",
    "mle_tau = mle_p2 - mle_p1"
   ]
  },
  {
   "cell_type": "code",
   "execution_count": null,
   "metadata": {
    "collapsed": false
   },
   "outputs": [],
   "source": [
    "n = 100000\n",
    "se2_boot = 0\n",
    "\n",
    "for i in np.arange(n):\n",
    "    p1_mean = np.mean(np.random.binomial(1, mle_p1, size = 50))\n",
    "    p2_mean = np.mean(np.random.binomial(1, mle_p2, size = 50))\n",
    "    se2_boot += ((p2_mean - p1_mean) - mle_tau) ** 2\n",
    "se_boot = np.sqrt(se2_boot/n)\n",
    "print (se_boot)"
   ]
  },
  {
   "cell_type": "markdown",
   "metadata": {},
   "source": [
    "#### 11.4c"
   ]
  },
  {
   "cell_type": "code",
   "execution_count": null,
   "metadata": {
    "collapsed": false
   },
   "outputs": [],
   "source": [
    "n = 1000\n",
    "\n",
    "p1 = np.random.beta(31, 21, size = n)\n",
    "p2 = np.random.beta(41, 11, size = n)\n",
    "\n",
    "np.mean(p2 - p1)\n"
   ]
  },
  {
   "cell_type": "code",
   "execution_count": null,
   "metadata": {
    "collapsed": false
   },
   "outputs": [],
   "source": [
    "n = 1000\n",
    "\n",
    "p1 = np.random.beta(31, 21, size = n)\n",
    "p2 = np.random.beta(41, 11, size = n)\n",
    "\n",
    "tau = p2 - p1\n",
    "\n",
    "plt.axhline(y = 0.05, color = 'r', linewidth = 0.5)\n",
    "plt.axhline(y = 0.95, color = 'r', linewidth = 0.5)\n",
    "plt.hist(tau, cumulative = True, normed = True, bins = 20)\n",
    "# i = 0\n",
    "# savefilename = 'posteriorCI'\n",
    "# while os.path.exists('{}{:d}.png'.format(savefilename, i)):\n",
    "#     i += 1\n",
    "\n",
    "# plt.savefig('{}{:d}.png'.format(savefilename, i))\n"
   ]
  },
  {
   "cell_type": "markdown",
   "metadata": {},
   "source": [
    "#### 11.4d"
   ]
  },
  {
   "cell_type": "code",
   "execution_count": null,
   "metadata": {
    "collapsed": false
   },
   "outputs": [],
   "source": [
    "n = 1000\n",
    "\n",
    "p1 = np.random.beta(31, 21, size = n)\n",
    "p2 = np.random.beta(41, 11, size = n)\n",
    "\n",
    "psi_distribution = np.log((p1 / (1 - p1)) / (p2 / (1 - p2)))\n",
    "\n",
    "psi_estimate = np.mean(psi_distribution)\n",
    "\n",
    "print (psi_estimate)\n",
    "\n",
    "plt.axhline(y = 0.05, color = 'r', linewidth = 0.5)\n",
    "plt.axhline(y = 0.95, color = 'r', linewidth = 0.5)\n",
    "\n",
    "plt.hist(psi_distribution, cumulative = True, normed = True, bins = 20)\n",
    "# i = 0\n",
    "# savefilename = 'psiposteriorCI'\n",
    "# while os.path.exists('{}{:d}.png'.format(savefilename, i)):\n",
    "#     i += 1\n",
    "\n",
    "# plt.savefig('{}{:d}.png'.format(savefilename, i))\n"
   ]
  },
  {
   "cell_type": "code",
   "execution_count": null,
   "metadata": {
    "collapsed": true
   },
   "outputs": [],
   "source": []
  },
  {
   "cell_type": "code",
   "execution_count": null,
   "metadata": {
    "collapsed": true
   },
   "outputs": [],
   "source": []
  },
  {
   "cell_type": "code",
   "execution_count": null,
   "metadata": {
    "collapsed": true
   },
   "outputs": [],
   "source": []
  }
 ],
 "metadata": {
  "anaconda-cloud": {},
  "kernelspec": {
   "display_name": "Python 3",
   "language": "python",
   "name": "python3"
  },
  "language_info": {
   "codemirror_mode": {
    "name": "ipython",
    "version": 3
   },
   "file_extension": ".py",
   "mimetype": "text/x-python",
   "name": "python",
   "nbconvert_exporter": "python",
   "pygments_lexer": "ipython3",
   "version": "3.5.2"
  }
 },
 "nbformat": 4,
 "nbformat_minor": 0
}
