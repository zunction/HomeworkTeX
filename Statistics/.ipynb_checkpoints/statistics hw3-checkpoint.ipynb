{
 "cells": [
  {
   "cell_type": "code",
   "execution_count": 1,
   "metadata": {
    "collapsed": false
   },
   "outputs": [],
   "source": [
    "import numpy as np\n",
    "import matplotlib.pyplot as plt\n",
    "import seaborn as sns; sns.set()\n",
    "import os\n",
    "\n",
    "from scipy.stats import invgauss, norm\n",
    "\n",
    "from itertools import permutations\n",
    "\n",
    "%matplotlib inline"
   ]
  },
  {
   "cell_type": "markdown",
   "metadata": {},
   "source": [
    "#### 10.7b"
   ]
  },
  {
   "cell_type": "code",
   "execution_count": null,
   "metadata": {
    "collapsed": false
   },
   "outputs": [],
   "source": [
    "T = np.array([.225, .262, .217, .240, .230, .229, .235, .217])\n",
    "S = np.array([.209, .205, .196, .210, .202, .207, .224, .223, .220, .201])"
   ]
  },
  {
   "cell_type": "code",
   "execution_count": null,
   "metadata": {
    "collapsed": false
   },
   "outputs": [],
   "source": [
    "TS = np.concatenate((T, S), axis = 0)"
   ]
  },
  {
   "cell_type": "code",
   "execution_count": null,
   "metadata": {
    "collapsed": true
   },
   "outputs": [],
   "source": [
    "def test_statistic(x):\n",
    "    return np.absolute(np.mean(x[: 8]) - np.mean(x[8: ]))"
   ]
  },
  {
   "cell_type": "code",
   "execution_count": null,
   "metadata": {
    "collapsed": false
   },
   "outputs": [],
   "source": [
    "def perm(x, n = 1000):\n",
    "    pdata = np.zeros((1000,x.shape[0]))\n",
    "    m = 0\n",
    "#     count = 0\n",
    "    while m < n:\n",
    "        p = np.random.permutation(x)\n",
    "        j = 0\n",
    "        while j < m:\n",
    "            \n",
    "            if p == pdata[j:]\n",
    "            \n",
    "    for i in np.arange(1000):\n",
    "        np.random.permutation(x)"
   ]
  },
  {
   "cell_type": "code",
   "execution_count": null,
   "metadata": {
    "collapsed": false
   },
   "outputs": [],
   "source": [
    "TS.shape"
   ]
  },
  {
   "cell_type": "markdown",
   "metadata": {
    "collapsed": true
   },
   "source": [
    "#### 10.12"
   ]
  },
  {
   "cell_type": "code",
   "execution_count": 2,
   "metadata": {
    "collapsed": true
   },
   "outputs": [],
   "source": [
    "def poisson_sample(l, n):\n",
    "    \"\"\"\n",
    "    Generates n Poisson distributed samples with parameter l.\n",
    "    \"\"\"\n",
    "    return np.random.poisson(lam = 1, size = n)"
   ]
  },
  {
   "cell_type": "code",
   "execution_count": 3,
   "metadata": {
    "collapsed": false
   },
   "outputs": [],
   "source": [
    "def wald_test(sample, n = 20, alpha = .05, null_lambda = 1):\n",
    "    \"\"\"\n",
    "    Perfoms Wald test and returns p-value.\n",
    "    \"\"\"\n",
    "    xbar = np.mean(sample)\n",
    "    test_statistic = np.absolute((xbar - null_lambda)/ (null_lambda / n) ** 0.5)\n",
    "    return  2 * (1 - norm.cdf(test_statistic))"
   ]
  },
  {
   "cell_type": "code",
   "execution_count": 4,
   "metadata": {
    "collapsed": false
   },
   "outputs": [],
   "source": [
    "def multwald(l = 1, n = 20, alpha = .05, null_lambda = 1, B = 10000):\n",
    "    \"\"\"\n",
    "    Performs Wald test B times and return proportion of test where null hypothesis is rejected.\n",
    "    \"\"\"\n",
    "    count = 0\n",
    "    for i in np.arange(B):\n",
    "        sample = poisson_sample(l, n)\n",
    "        if wald_test(sample) < alpha:\n",
    "            count += 1\n",
    "\n",
    "    return count/B"
   ]
  },
  {
   "cell_type": "code",
   "execution_count": 5,
   "metadata": {
    "collapsed": false
   },
   "outputs": [
    {
     "data": {
      "text/plain": [
       "0.0548"
      ]
     },
     "execution_count": 5,
     "metadata": {},
     "output_type": "execute_result"
    }
   ],
   "source": [
    "multwald()"
   ]
  },
  {
   "cell_type": "markdown",
   "metadata": {
    "collapsed": true
   },
   "source": [
    "#### 11.4b"
   ]
  },
  {
   "cell_type": "code",
   "execution_count": 6,
   "metadata": {
    "collapsed": true
   },
   "outputs": [],
   "source": [
    "mle_p1 = 3/5\n",
    "mle_p2 = 4/5\n",
    "mle_tau = mle_p2 - mle_p1"
   ]
  },
  {
   "cell_type": "code",
   "execution_count": 13,
   "metadata": {
    "collapsed": false
   },
   "outputs": [
    {
     "name": "stdout",
     "output_type": "stream",
     "text": [
      "0.0895209919516\n"
     ]
    }
   ],
   "source": [
    "n = 100000\n",
    "se2_boot = 0\n",
    "\n",
    "for i in np.arange(n):\n",
    "    p1_mean = np.mean(np.random.binomial(1, mle_p1, size = 50))\n",
    "    p2_mean = np.mean(np.random.binomial(1, mle_p2, size = 50))\n",
    "    se2_boot += ((p2_mean - p1_mean) - mle_tau) ** 2\n",
    "se_boot = np.sqrt(se2_boot/n)\n",
    "print (se_boot)"
   ]
  },
  {
   "cell_type": "markdown",
   "metadata": {},
   "source": [
    "#### 11.4c"
   ]
  },
  {
   "cell_type": "code",
   "execution_count": 3,
   "metadata": {
    "collapsed": false
   },
   "outputs": [
    {
     "data": {
      "text/plain": [
       "0.19313379724512114"
      ]
     },
     "execution_count": 3,
     "metadata": {},
     "output_type": "execute_result"
    }
   ],
   "source": [
    "n = 1000\n",
    "\n",
    "p1 = np.random.beta(31, 21, size = n)\n",
    "p2 = np.random.beta(41, 11, size = n)\n",
    "\n",
    "np.mean(p2 - p1)\n"
   ]
  },
  {
   "cell_type": "code",
   "execution_count": 21,
   "metadata": {
    "collapsed": false
   },
   "outputs": [
    {
     "data": {
      "text/plain": [
       "(array([ 0.001,  0.001,  0.005,  0.009,  0.02 ,  0.053,  0.11 ,  0.206,\n",
       "         0.333,  0.454,  0.575,  0.721,  0.832,  0.901,  0.95 ,  0.968,\n",
       "         0.99 ,  0.998,  0.999,  1.   ]),\n",
       " array([-0.13399728, -0.1025482 , -0.07109912, -0.03965005, -0.00820097,\n",
       "         0.02324811,  0.05469719,  0.08614627,  0.11759535,  0.14904443,\n",
       "         0.18049351,  0.21194259,  0.24339167,  0.27484075,  0.30628983,\n",
       "         0.33773891,  0.36918799,  0.40063707,  0.43208615,  0.46353523,\n",
       "         0.49498431]),\n",
       " <a list of 20 Patch objects>)"
      ]
     },
     "execution_count": 21,
     "metadata": {},
     "output_type": "execute_result"
    },
    {
     "data": {
      "image/png": "[encoded data removed]",
      "text/plain": [
       "<matplotlib.figure.Figure at 0xd1ed0f0>"
      ]
     },
     "metadata": {},
     "output_type": "display_data"
    }
   ],
   "source": [
    "n = 1000\n",
    "\n",
    "p1 = np.random.beta(31, 21, size = n)\n",
    "p2 = np.random.beta(41, 11, size = n)\n",
    "\n",
    "tau = p2 - p1\n",
    "\n",
    "plt.axhline(y = 0.05, color = 'r', linewidth = 0.5)\n",
    "plt.axhline(y = 0.95, color = 'r', linewidth = 0.5)\n",
    "plt.hist(tau, cumulative = True, normed = True, bins = 20)\n",
    "# i = 0\n",
    "# savefilename = 'posteriorCI'\n",
    "# while os.path.exists('{}{:d}.png'.format(savefilename, i)):\n",
    "#     i += 1\n",
    "\n",
    "# plt.savefig('{}{:d}.png'.format(savefilename, i))\n"
   ]
  },
  {
   "cell_type": "markdown",
   "metadata": {},
   "source": [
    "#### 11.4d"
   ]
  },
  {
   "cell_type": "code",
   "execution_count": 36,
   "metadata": {
    "collapsed": false
   },
   "outputs": [
    {
     "data": {
      "text/plain": [
       "(array([ 0.001,  0.001,  0.001,  0.003,  0.015,  0.035,  0.066,  0.128,\n",
       "         0.234,  0.365,  0.533,  0.669,  0.777,  0.872,  0.934,  0.971,\n",
       "         0.99 ,  0.998,  0.998,  1.   ]),\n",
       " array([-2.71633164, -2.55494935, -2.39356705, -2.23218475, -2.07080245,\n",
       "        -1.90942015, -1.74803786, -1.58665556, -1.42527326, -1.26389096,\n",
       "        -1.10250867, -0.94112637, -0.77974407, -0.61836177, -0.45697947,\n",
       "        -0.29559718, -0.13421488,  0.02716742,  0.18854972,  0.34993202,\n",
       "         0.51131431]),\n",
       " <a list of 20 Patch objects>)"
      ]
     },
     "execution_count": 36,
     "metadata": {},
     "output_type": "execute_result"
    },
    {
     "data": {
      "image/png": "[encoded data removed]",
      "text/plain": [
       "<matplotlib.figure.Figure at 0xe9560b8>"
      ]
     },
     "metadata": {},
     "output_type": "display_data"
    }
   ],
   "source": [
    "n = 1000\n",
    "\n",
    "p1 = np.random.beta(31, 21, size = n)\n",
    "p2 = np.random.beta(41, 11, size = n)\n",
    "\n",
    "psi_distribution = np.log((p1 / (1 - p1)) / (p2 / (1 - p2)))\n",
    "\n",
    "psi_estimate = np.mean(psi_distribution)\n",
    "\n",
    "plt.axhline(y = 0.05, color = 'r', linewidth = 0.5)\n",
    "plt.axhline(y = 0.95, color = 'r', linewidth = 0.5)\n",
    "\n",
    "plt.hist(psi_distribution, cumulative = True, normed = True, bins = 20)\n",
    "# i = 0\n",
    "# savefilename = 'psiposteriorCI'\n",
    "# while os.path.exists('{}{:d}.png'.format(savefilename, i)):\n",
    "#     i += 1\n",
    "\n",
    "# plt.savefig('{}{:d}.png'.format(savefilename, i))\n"
   ]
  },
  {
   "cell_type": "code",
   "execution_count": null,
   "metadata": {
    "collapsed": true
   },
   "outputs": [],
   "source": []
  },
  {
   "cell_type": "code",
   "execution_count": null,
   "metadata": {
    "collapsed": true
   },
   "outputs": [],
   "source": []
  },
  {
   "cell_type": "code",
   "execution_count": null,
   "metadata": {
    "collapsed": true
   },
   "outputs": [],
   "source": []
  }
 ],
 "metadata": {
  "anaconda-cloud": {},
  "kernelspec": {
   "display_name": "Python [default]",
   "language": "python",
   "name": "python3"
  },
  "language_info": {
   "codemirror_mode": {
    "name": "ipython",
    "version": 3
   },
   "file_extension": ".py",
   "mimetype": "text/x-python",
   "name": "python",
   "nbconvert_exporter": "python",
   "pygments_lexer": "ipython3",
   "version": "3.5.2"
  }
 },
 "nbformat": 4,
 "nbformat_minor": 0
}
