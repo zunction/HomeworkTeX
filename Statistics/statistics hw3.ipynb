{
 "cells": [
  {
   "cell_type": "code",
   "execution_count": 32,
   "metadata": {
    "collapsed": false
   },
   "outputs": [],
   "source": [
    "import numpy as np\n",
    "import matplotlib.pyplot as plt\n",
    "import seaborn as sns; sns.set()\n",
    "import os\n",
    "\n",
    "from scipy.stats import invgauss, norm\n",
    "\n",
    "from itertools import permutations\n",
    "\n",
    "%matplotlib inline"
   ]
  },
  {
   "cell_type": "code",
   "execution_count": 38,
   "metadata": {
    "collapsed": false
   },
   "outputs": [
    {
     "data": {
      "text/plain": [
       "0.97500210485177952"
      ]
     },
     "execution_count": 38,
     "metadata": {},
     "output_type": "execute_result"
    }
   ],
   "source": [
    "norm.cdf(1.96)"
   ]
  },
  {
   "cell_type": "markdown",
   "metadata": {},
   "source": [
    "#### 10.7b"
   ]
  },
  {
   "cell_type": "code",
   "execution_count": 2,
   "metadata": {
    "collapsed": false
   },
   "outputs": [],
   "source": [
    "T = np.array([.225, .262, .217, .240, .230, .229, .235, .217])\n",
    "S = np.array([.209, .205, .196, .210, .202, .207, .224, .223, .220, .201])"
   ]
  },
  {
   "cell_type": "code",
   "execution_count": 3,
   "metadata": {
    "collapsed": false
   },
   "outputs": [],
   "source": [
    "TS = np.concatenate((T, S), axis = 0)"
   ]
  },
  {
   "cell_type": "code",
   "execution_count": 4,
   "metadata": {
    "collapsed": true
   },
   "outputs": [],
   "source": [
    "def test_statistic(x):\n",
    "    return np.absolute(np.mean(x[: 8]) - np.mean(x[8: ]))"
   ]
  },
  {
   "cell_type": "code",
   "execution_count": 5,
   "metadata": {
    "collapsed": false
   },
   "outputs": [
    {
     "name": "stdout",
     "output_type": "stream",
     "text": [
      "0.022175\n"
     ]
    }
   ],
   "source": [
    "t_observed = test_statistic(TS)\n",
    "print (t_observed)"
   ]
  },
  {
   "cell_type": "code",
   "execution_count": null,
   "metadata": {
    "collapsed": true
   },
   "outputs": [],
   "source": [
    "def perm(x, n = 1000):\n",
    "    pdata = np.zeros((1000,x.shape[0]))\n",
    "    m = 0\n",
    "#     count = 0\n",
    "    while m < n:\n",
    "        p = np.random.permutation(x)\n",
    "        j = 0\n",
    "        while j < m:\n",
    "            \n",
    "            if p == pdata[j:]\n",
    "            \n",
    "    for i in np.arange(1000):\n",
    "        np.random.permutation(x)"
   ]
  },
  {
   "cell_type": "code",
   "execution_count": 6,
   "metadata": {
    "collapsed": false
   },
   "outputs": [
    {
     "data": {
      "text/plain": [
       "(18,)"
      ]
     },
     "execution_count": 6,
     "metadata": {},
     "output_type": "execute_result"
    }
   ],
   "source": [
    "TS.shape"
   ]
  },
  {
   "cell_type": "markdown",
   "metadata": {
    "collapsed": true
   },
   "source": [
    "#### 10.12"
   ]
  },
  {
   "cell_type": "code",
   "execution_count": 18,
   "metadata": {
    "collapsed": true
   },
   "outputs": [],
   "source": [
    "def poisson_sample(l, n):\n",
    "    \"\"\"\n",
    "    Generates n Poisson distributed samples with parameter l.\n",
    "    \"\"\"\n",
    "    return np.random.poisson(lam = 1, size = n)"
   ]
  },
  {
   "cell_type": "code",
   "execution_count": 73,
   "metadata": {
    "collapsed": false
   },
   "outputs": [],
   "source": [
    "def wald_test(sample, n = 20, alpha = .05, null_lambda = 1):\n",
    "    \"\"\"\n",
    "    Perfoms Wald test and returns p-value.\n",
    "    \"\"\"\n",
    "    xbar = np.mean(sample)\n",
    "    test_statistic = np.absolute((xbar - null_lambda)/ (null_lambda / n) ** 0.5)\n",
    "    return  2 * (1 - norm.cdf(test_statistic))"
   ]
  },
  {
   "cell_type": "code",
   "execution_count": 79,
   "metadata": {
    "collapsed": false
   },
   "outputs": [],
   "source": [
    "def multwald(l = 1, n = 20, alpha = .05, null_lambda = 1, B = 10000):\n",
    "    \"\"\"\n",
    "    Performs Wald test B times and return proportion of test where null hypothesis is rejected.\n",
    "    \"\"\"\n",
    "    count = 0\n",
    "    for i in np.arange(B):\n",
    "        sample = poisson_sample(l, n)\n",
    "        if wald_test(sample) < alpha:\n",
    "            count += 1\n",
    "\n",
    "    return count/B"
   ]
  },
  {
   "cell_type": "code",
   "execution_count": 80,
   "metadata": {
    "collapsed": false
   },
   "outputs": [
    {
     "data": {
      "text/plain": [
       "0.0564"
      ]
     },
     "execution_count": 80,
     "metadata": {},
     "output_type": "execute_result"
    }
   ],
   "source": [
    "multwald()"
   ]
  },
  {
   "cell_type": "code",
   "execution_count": null,
   "metadata": {
    "collapsed": true
   },
   "outputs": [],
   "source": []
  }
 ],
 "metadata": {
  "anaconda-cloud": {},
  "kernelspec": {
   "display_name": "Python [Root]",
   "language": "python",
   "name": "Python [Root]"
  },
  "language_info": {
   "codemirror_mode": {
    "name": "ipython",
    "version": 3
   },
   "file_extension": ".py",
   "mimetype": "text/x-python",
   "name": "python",
   "nbconvert_exporter": "python",
   "pygments_lexer": "ipython3",
   "version": "3.5.2"
  }
 },
 "nbformat": 4,
 "nbformat_minor": 0
}
