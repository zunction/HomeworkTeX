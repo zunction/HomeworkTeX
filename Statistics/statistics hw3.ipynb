{
 "cells": [
  {
   "cell_type": "code",
   "execution_count": 1,
   "metadata": {
    "collapsed": false
   },
   "outputs": [],
   "source": [
    "import numpy as np\n",
    "import matplotlib.pyplot as plt\n",
    "import seaborn as sns; sns.set()\n",
    "import os\n",
    "\n",
    "from scipy.stats import invgauss, norm\n",
    "\n",
    "from itertools import permutations\n",
    "\n",
    "%matplotlib inline"
   ]
  },
  {
   "cell_type": "markdown",
   "metadata": {},
   "source": [
    "#### 10.7b"
   ]
  },
  {
   "cell_type": "code",
   "execution_count": null,
   "metadata": {
    "collapsed": false
   },
   "outputs": [],
   "source": [
    "T = np.array([.225, .262, .217, .240, .230, .229, .235, .217])\n",
    "S = np.array([.209, .205, .196, .210, .202, .207, .224, .223, .220, .201])"
   ]
  },
  {
   "cell_type": "code",
   "execution_count": null,
   "metadata": {
    "collapsed": false
   },
   "outputs": [],
   "source": [
    "TS = np.concatenate((T, S), axis = 0)"
   ]
  },
  {
   "cell_type": "code",
   "execution_count": null,
   "metadata": {
    "collapsed": true
   },
   "outputs": [],
   "source": [
    "def test_statistic(x):\n",
    "    return np.absolute(np.mean(x[: 8]) - np.mean(x[8: ]))"
   ]
  },
  {
   "cell_type": "code",
   "execution_count": null,
   "metadata": {
    "collapsed": false
   },
   "outputs": [],
   "source": [
    "def perm(x, n = 1000):\n",
    "    pdata = np.zeros((1000,x.shape[0]))\n",
    "    m = 0\n",
    "#     count = 0\n",
    "    while m < n:\n",
    "        p = np.random.permutation(x)\n",
    "        j = 0\n",
    "        while j < m:\n",
    "            \n",
    "            if p == pdata[j:]\n",
    "            \n",
    "    for i in np.arange(1000):\n",
    "        np.random.permutation(x)"
   ]
  },
  {
   "cell_type": "code",
   "execution_count": null,
   "metadata": {
    "collapsed": false
   },
   "outputs": [],
   "source": [
    "TS.shape"
   ]
  },
  {
   "cell_type": "markdown",
   "metadata": {
    "collapsed": true
   },
   "source": [
    "#### 10.12"
   ]
  },
  {
   "cell_type": "code",
   "execution_count": 2,
   "metadata": {
    "collapsed": true
   },
   "outputs": [],
   "source": [
    "def poisson_sample(l, n):\n",
    "    \"\"\"\n",
    "    Generates n Poisson distributed samples with parameter l.\n",
    "    \"\"\"\n",
    "    return np.random.poisson(lam = 1, size = n)"
   ]
  },
  {
   "cell_type": "code",
   "execution_count": 3,
   "metadata": {
    "collapsed": false
   },
   "outputs": [],
   "source": [
    "def wald_test(sample, n = 20, alpha = .05, null_lambda = 1):\n",
    "    \"\"\"\n",
    "    Perfoms Wald test and returns p-value.\n",
    "    \"\"\"\n",
    "    xbar = np.mean(sample)\n",
    "    test_statistic = np.absolute((xbar - null_lambda)/ (null_lambda / n) ** 0.5)\n",
    "    return  2 * (1 - norm.cdf(test_statistic))"
   ]
  },
  {
   "cell_type": "code",
   "execution_count": 4,
   "metadata": {
    "collapsed": false
   },
   "outputs": [],
   "source": [
    "def multwald(l = 1, n = 20, alpha = .05, null_lambda = 1, B = 10000):\n",
    "    \"\"\"\n",
    "    Performs Wald test B times and return proportion of test where null hypothesis is rejected.\n",
    "    \"\"\"\n",
    "    count = 0\n",
    "    for i in np.arange(B):\n",
    "        sample = poisson_sample(l, n)\n",
    "        if wald_test(sample) < alpha:\n",
    "            count += 1\n",
    "\n",
    "    return count/B"
   ]
  },
  {
   "cell_type": "code",
   "execution_count": 5,
   "metadata": {
    "collapsed": false
   },
   "outputs": [
    {
     "data": {
      "text/plain": [
       "0.0548"
      ]
     },
     "execution_count": 5,
     "metadata": {},
     "output_type": "execute_result"
    }
   ],
   "source": [
    "multwald()"
   ]
  },
  {
   "cell_type": "markdown",
   "metadata": {
    "collapsed": true
   },
   "source": [
    "#### 11.4b"
   ]
  },
  {
   "cell_type": "code",
   "execution_count": 6,
   "metadata": {
    "collapsed": true
   },
   "outputs": [],
   "source": [
    "mle_p1 = 3/5\n",
    "mle_p2 = 4/5\n",
    "mle_tau = mle_p2 - mle_p1"
   ]
  },
  {
   "cell_type": "code",
   "execution_count": 13,
   "metadata": {
    "collapsed": false
   },
   "outputs": [
    {
     "name": "stdout",
     "output_type": "stream",
     "text": [
      "0.0895209919516\n"
     ]
    }
   ],
   "source": [
    "n = 100000\n",
    "se2_boot = 0\n",
    "\n",
    "for i in np.arange(n):\n",
    "    p1_mean = np.mean(np.random.binomial(1, mle_p1, size = 50))\n",
    "    p2_mean = np.mean(np.random.binomial(1, mle_p2, size = 50))\n",
    "    se2_boot += ((p2_mean - p1_mean) - mle_tau) ** 2\n",
    "se_boot = np.sqrt(se2_boot/n)\n",
    "print (se_boot)"
   ]
  },
  {
   "cell_type": "markdown",
   "metadata": {},
   "source": [
    "#### 11.4c"
   ]
  },
  {
   "cell_type": "code",
   "execution_count": 3,
   "metadata": {
    "collapsed": false
   },
   "outputs": [
    {
     "data": {
      "text/plain": [
       "0.19313379724512114"
      ]
     },
     "execution_count": 3,
     "metadata": {},
     "output_type": "execute_result"
    }
   ],
   "source": [
    "n = 1000\n",
    "\n",
    "p1 = np.random.beta(31, 21, size = n)\n",
    "p2 = np.random.beta(41, 11, size = n)\n",
    "\n",
    "np.mean(p2 - p1)\n"
   ]
  },
  {
   "cell_type": "code",
   "execution_count": 37,
   "metadata": {
    "collapsed": false
   },
   "outputs": [
    {
     "data": {
      "text/plain": [
       "(array([ 0.001,  0.001,  0.002,  0.009,  0.013,  0.028,  0.069,  0.145,\n",
       "         0.239,  0.359,  0.499,  0.633,  0.757,  0.85 ,  0.919,  0.965,\n",
       "         0.985,  0.994,  0.998,  1.   ]),\n",
       " array([-0.13490767, -0.10488559, -0.07486352, -0.04484144, -0.01481936,\n",
       "         0.01520271,  0.04522479,  0.07524686,  0.10526894,  0.13529102,\n",
       "         0.16531309,  0.19533517,  0.22535724,  0.25537932,  0.2854014 ,\n",
       "         0.31542347,  0.34544555,  0.37546762,  0.4054897 ,  0.43551178,\n",
       "         0.46553385]),\n",
       " <a list of 20 Patch objects>)"
      ]
     },
     "execution_count": 37,
     "metadata": {},
     "output_type": "execute_result"
    },
    {
     "data": {
      "image/png": "[encoded data removed]",
      "text/plain": [
       "<matplotlib.figure.Figure at 0xd490ac8>"
      ]
     },
     "metadata": {},
     "output_type": "display_data"
    }
   ],
   "source": [
    "n = 1000\n",
    "\n",
    "p1 = np.random.beta(31, 21, size = n)\n",
    "p2 = np.random.beta(41, 11, size = n)\n",
    "\n",
    "tau = p2 - p1\n",
    "\n",
    "plt.axhline(y = 0.05, color = 'r', linewidth = 0.5)\n",
    "plt.axhline(y = 0.95, color = 'r', linewidth = 0.5)\n",
    "plt.hist(tau, cumulative = True, normed = True, bins = 20)\n",
    "# i = 0\n",
    "# savefilename = 'posteriorCI'\n",
    "# while os.path.exists('{}{:d}.png'.format(savefilename, i)):\n",
    "#     i += 1\n",
    "\n",
    "# plt.savefig('{}{:d}.png'.format(savefilename, i))\n"
   ]
  },
  {
   "cell_type": "markdown",
   "metadata": {},
   "source": [
    "#### 11.4d"
   ]
  },
  {
   "cell_type": "code",
   "execution_count": 40,
   "metadata": {
    "collapsed": false
   },
   "outputs": [
    {
     "name": "stdout",
     "output_type": "stream",
     "text": [
      "-0.943973340847\n"
     ]
    },
    {
     "data": {
      "text/plain": [
       "(array([ 0.005,  0.015,  0.024,  0.062,  0.109,  0.175,  0.275,  0.397,\n",
       "         0.531,  0.666,  0.792,  0.888,  0.948,  0.978,  0.992,  0.996,\n",
       "         0.997,  0.999,  0.999,  1.   ]),\n",
       " array([-2.31221772, -2.15417526, -1.9961328 , -1.83809035, -1.68004789,\n",
       "        -1.52200544, -1.36396298, -1.20592053, -1.04787807, -0.88983562,\n",
       "        -0.73179316, -0.57375071, -0.41570825, -0.25766579, -0.09962334,\n",
       "         0.05841912,  0.21646157,  0.37450403,  0.53254648,  0.69058894,\n",
       "         0.84863139]),\n",
       " <a list of 20 Patch objects>)"
      ]
     },
     "execution_count": 40,
     "metadata": {},
     "output_type": "execute_result"
    },
    {
     "data": {
      "image/png": "[encoded data removed]",
      "text/plain": [
       "<matplotlib.figure.Figure at 0xd4fb7b8>"
      ]
     },
     "metadata": {},
     "output_type": "display_data"
    }
   ],
   "source": [
    "n = 1000\n",
    "\n",
    "p1 = np.random.beta(31, 21, size = n)\n",
    "p2 = np.random.beta(41, 11, size = n)\n",
    "\n",
    "psi_distribution = np.log((p1 / (1 - p1)) / (p2 / (1 - p2)))\n",
    "\n",
    "psi_estimate = np.mean(psi_distribution)\n",
    "\n",
    "print (psi_estimate)\n",
    "\n",
    "plt.axhline(y = 0.05, color = 'r', linewidth = 0.5)\n",
    "plt.axhline(y = 0.95, color = 'r', linewidth = 0.5)\n",
    "\n",
    "plt.hist(psi_distribution, cumulative = True, normed = True, bins = 20)\n",
    "# i = 0\n",
    "# savefilename = 'psiposteriorCI'\n",
    "# while os.path.exists('{}{:d}.png'.format(savefilename, i)):\n",
    "#     i += 1\n",
    "\n",
    "# plt.savefig('{}{:d}.png'.format(savefilename, i))\n"
   ]
  },
  {
   "cell_type": "code",
   "execution_count": null,
   "metadata": {
    "collapsed": true
   },
   "outputs": [],
   "source": []
  },
  {
   "cell_type": "code",
   "execution_count": null,
   "metadata": {
    "collapsed": true
   },
   "outputs": [],
   "source": []
  },
  {
   "cell_type": "code",
   "execution_count": null,
   "metadata": {
    "collapsed": true
   },
   "outputs": [],
   "source": []
  }
 ],
 "metadata": {
  "anaconda-cloud": {},
  "kernelspec": {
   "display_name": "Python [default]",
   "language": "python",
   "name": "python3"
  },
  "language_info": {
   "codemirror_mode": {
    "name": "ipython",
    "version": 3
   },
   "file_extension": ".py",
   "mimetype": "text/x-python",
   "name": "python",
   "nbconvert_exporter": "python",
   "pygments_lexer": "ipython3",
   "version": "3.5.2"
  }
 },
 "nbformat": 4,
 "nbformat_minor": 0
}
