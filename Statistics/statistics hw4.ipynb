{
 "cells": [
  {
   "cell_type": "code",
   "execution_count": 14,
   "metadata": {
    "collapsed": true
   },
   "outputs": [],
   "source": [
    "import numpy as np\n",
    "import matplotlib.pyplot as plt\n",
    "import seaborn as sns; sns.set()\n",
    "import os\n",
    "\n",
    "from scipy.stats import invgauss, norm, gamma\n",
    "\n",
    "from itertools import permutations\n",
    "\n",
    "%matplotlib inline"
   ]
  },
  {
   "cell_type": "markdown",
   "metadata": {},
   "source": [
    "Q4a"
   ]
  },
  {
   "cell_type": "code",
   "execution_count": 21,
   "metadata": {
    "collapsed": false
   },
   "outputs": [],
   "source": [
    "def mc_integrate(alpha, beta, N = 100000):\n",
    "    sample = np.random.uniform(0,1, size = (1, N))\n",
    "    return np.mean([gamma.pdf(x, alpha, loc = 0, scale = beta) for x in sample])   "
   ]
  },
  {
   "cell_type": "code",
   "execution_count": 44,
   "metadata": {
    "collapsed": false
   },
   "outputs": [
    {
     "data": {
      "text/plain": [
       "0.16746878288759592"
      ]
     },
     "execution_count": 44,
     "metadata": {},
     "output_type": "execute_result"
    }
   ],
   "source": [
    "mc_integrate(1.5, 2.3)"
   ]
  },
  {
   "cell_type": "markdown",
   "metadata": {},
   "source": [
    "Empirical distribution to draw bootstrap samples"
   ]
  },
  {
   "cell_type": "code",
   "execution_count": 45,
   "metadata": {
    "collapsed": false
   },
   "outputs": [],
   "source": [
    "# Empirical distribution to draw bootstrap samples\n",
    "N = 100000\n",
    "sample = np.random.uniform(0,1, size = (1, N))\n",
    "emp_dist = [gamma.pdf(x, 1.5, loc = 0, scale = 2.3) for x in sample]"
   ]
  },
  {
   "cell_type": "code",
   "execution_count": 47,
   "metadata": {
    "collapsed": false
   },
   "outputs": [
    {
     "data": {
      "text/plain": [
       "array([ 0.11983534,  0.18675511,  0.19268489, ...,  0.2071236 ,\n",
       "        0.02107316,  0.19958395])"
      ]
     },
     "execution_count": 47,
     "metadata": {},
     "output_type": "execute_result"
    }
   ],
   "source": [
    "emp_dist[0]"
   ]
  },
  {
   "cell_type": "markdown",
   "metadata": {},
   "source": [
    "Creating the 10000 bootstrap samples"
   ]
  },
  {
   "cell_type": "code",
   "execution_count": 59,
   "metadata": {
    "collapsed": false
   },
   "outputs": [],
   "source": [
    "bs_samples = [np.random.choice(emp_dist[0], 100000) for x in range(10000)]"
   ]
  },
  {
   "cell_type": "code",
   "execution_count": 71,
   "metadata": {
    "collapsed": false
   },
   "outputs": [],
   "source": [
    "bs_estimates = [np.mean(bs_samples[i]) for i in range(10000)]"
   ]
  },
  {
   "cell_type": "code",
   "execution_count": 73,
   "metadata": {
    "collapsed": false
   },
   "outputs": [
    {
     "name": "stdout",
     "output_type": "stream",
     "text": [
      "0.167143725399\n"
     ]
    }
   ],
   "source": [
    "mean_bs_estimates = np.mean(bs_estimates)\n",
    "print (mean_bs_estimates)"
   ]
  },
  {
   "cell_type": "code",
   "execution_count": 74,
   "metadata": {
    "collapsed": false
   },
   "outputs": [
    {
     "name": "stdout",
     "output_type": "stream",
     "text": [
      "2.02528847178e-08\n"
     ]
    }
   ],
   "source": [
    "bs_se = np.mean([(mean_bs_estimates - bs_estimates[i])**2 for i in range(10000)])\n",
    "print (bs_se)"
   ]
  },
  {
   "cell_type": "markdown",
   "metadata": {},
   "source": [
    "Using the Monte Carlo method"
   ]
  },
  {
   "cell_type": "code",
   "execution_count": 75,
   "metadata": {
    "collapsed": true
   },
   "outputs": [],
   "source": [
    "mc_estimates = [mc_integrate(1.5, 2.3) for i in range(10000)]"
   ]
  },
  {
   "cell_type": "code",
   "execution_count": 78,
   "metadata": {
    "collapsed": false
   },
   "outputs": [
    {
     "name": "stdout",
     "output_type": "stream",
     "text": [
      "0.167233647488\n"
     ]
    }
   ],
   "source": [
    "mean_mc_estimates = np.mean(mc_estimates)\n",
    "print (mean_mc_estimates)"
   ]
  },
  {
   "cell_type": "code",
   "execution_count": 79,
   "metadata": {
    "collapsed": false
   },
   "outputs": [
    {
     "name": "stdout",
     "output_type": "stream",
     "text": [
      "1.96946283051e-08\n"
     ]
    }
   ],
   "source": [
    "mc_se = np.mean([(mean_mc_estimates - mc_estimates[i])**2 for i in range(10000)])\n",
    "print(mc_se)"
   ]
  }
 ],
 "metadata": {
  "kernelspec": {
   "display_name": "Python [Root]",
   "language": "python",
   "name": "Python [Root]"
  },
  "language_info": {
   "codemirror_mode": {
    "name": "ipython",
    "version": 3
   },
   "file_extension": ".py",
   "mimetype": "text/x-python",
   "name": "python",
   "nbconvert_exporter": "python",
   "pygments_lexer": "ipython3",
   "version": "3.5.2"
  }
 },
 "nbformat": 4,
 "nbformat_minor": 0
}
