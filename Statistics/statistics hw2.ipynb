{
 "cells": [
  {
   "cell_type": "code",
   "execution_count": 1,
   "metadata": {
    "collapsed": false
   },
   "outputs": [],
   "source": [
    "import numpy as np\n",
    "import matplotlib.pyplot as plt\n",
    "import seaborn as sns; sns.set()\n",
    "import os\n",
    "\n",
    "%matplotlib inline"
   ]
  },
  {
   "cell_type": "markdown",
   "metadata": {},
   "source": [
    "#### Q8.7(a)"
   ]
  },
  {
   "cell_type": "code",
   "execution_count": 2,
   "metadata": {
    "collapsed": false
   },
   "outputs": [],
   "source": [
    "def sample(theta, n):\n",
    "    \"\"\"\n",
    "    Draws n samples from uniform distribution in the interval (0, theta).\n",
    "    \"\"\"\n",
    "    return np.random.uniform(0, theta, n)"
   ]
  },
  {
   "cell_type": "code",
   "execution_count": 3,
   "metadata": {
    "collapsed": true
   },
   "outputs": [],
   "source": [
    "def bootstrap(sample, B):\n",
    "    \"\"\"\n",
    "    Performs bootstrapping B times from the given sample\n",
    "    \"\"\"\n",
    "    n = sample.shape[0]\n",
    "    bootstrap = np.zeros((B,50))\n",
    "    for i in range(B):\n",
    "        bootstrap[i,:] = np.random.choice(sample, 50)\n",
    "    return bootstrap        "
   ]
  },
  {
   "cell_type": "code",
   "execution_count": 4,
   "metadata": {
    "collapsed": true
   },
   "outputs": [],
   "source": [
    "def maxestimator(bootstrap):\n",
    "    return np.max(bootstrap, axis = 1)"
   ]
  },
  {
   "cell_type": "code",
   "execution_count": 5,
   "metadata": {
    "collapsed": true
   },
   "outputs": [],
   "source": [
    "def plotcdf(theta, n):\n",
    "    x = np.arange(0, theta, 0.01)\n",
    "    f = lambda x: n*(x/theta) ** (n-1) \n",
    "    y = f(x)\n",
    "    plt.plot(x, y, 'g', label = 'True Distribution')"
   ]
  },
  {
   "cell_type": "code",
   "execution_count": 6,
   "metadata": {
    "collapsed": true
   },
   "outputs": [],
   "source": [
    "def finalplot(theta, n, B):\n",
    "    samples = sample(theta, n)\n",
    "    bootstraps = bootstrap(samples, B)\n",
    "    max_samples = maxestimator(bootstraps)\n",
    "    plt.hist(max_samples, label = 'Bootstrap Samples')\n",
    "    plotcdf(1, 50)\n",
    "    plt.legend(loc='best')\n",
    "    plt.title('Bootstrapping Uniform distribution')\n",
    "    i = 0\n",
    "    savefilename = 'bootstrap'\n",
    "    while os.path.exists('{}{:d}.png'.format(savefilename, i)):\n",
    "        i += 1\n",
    "\n",
    "    plt.savefig('{}{:d}.png'.format(savefilename, i))\n"
   ]
  },
  {
   "cell_type": "code",
   "execution_count": 8,
   "metadata": {
    "collapsed": false
   },
   "outputs": [
    {
     "data": {
      "image/png": "[encoded data removed]",
      "text/plain": [
       "<matplotlib.figure.Figure at 0xa3bc0b8>"
      ]
     },
     "metadata": {},
     "output_type": "display_data"
    }
   ],
   "source": [
    "finalplot(1, 50, 100)"
   ]
  },
  {
   "cell_type": "markdown",
   "metadata": {
    "collapsed": true
   },
   "source": [
    "#### Q9.2"
   ]
  },
  {
   "cell_type": "code",
   "execution_count": 46,
   "metadata": {
    "collapsed": true
   },
   "outputs": [],
   "source": [
    "n = 500000"
   ]
  },
  {
   "cell_type": "code",
   "execution_count": 47,
   "metadata": {
    "collapsed": false
   },
   "outputs": [],
   "source": [
    "mle_tau = np.zeros((n,1))\n",
    "for i in np.arange(n):\n",
    "    s = np.random.uniform(1, 3, 10)\n",
    "    s_max = np.max(s)\n",
    "    s_min = np.min(s)\n",
    "    mle_tau[i] = 0.5 * (s_max + s_min)"
   ]
  },
  {
   "cell_type": "code",
   "execution_count": 48,
   "metadata": {
    "collapsed": false
   },
   "outputs": [
    {
     "data": {
      "text/plain": [
       "0.015173549832030588"
      ]
     },
     "execution_count": 48,
     "metadata": {},
     "output_type": "execute_result"
    }
   ],
   "source": [
    "(1/n) * np.sum((mle_tau - 2) **2)"
   ]
  },
  {
   "cell_type": "code",
   "execution_count": 49,
   "metadata": {
    "collapsed": true
   },
   "outputs": [],
   "source": [
    "mle_tau = np.zeros((n,1))\n",
    "for i in np.arange(n):\n",
    "    s = np.random.uniform(1, 3, 10)\n",
    "    mle_tau[i] = np.mean(s)"
   ]
  },
  {
   "cell_type": "code",
   "execution_count": 50,
   "metadata": {
    "collapsed": false
   },
   "outputs": [
    {
     "data": {
      "text/plain": [
       "0.03327741005826864"
      ]
     },
     "execution_count": 50,
     "metadata": {},
     "output_type": "execute_result"
    }
   ],
   "source": [
    "(1/n) * np.sum((mle_tau - 2) **2)"
   ]
  },
  {
   "cell_type": "code",
   "execution_count": null,
   "metadata": {
    "collapsed": true
   },
   "outputs": [],
   "source": []
  },
  {
   "cell_type": "code",
   "execution_count": null,
   "metadata": {
    "collapsed": true
   },
   "outputs": [],
   "source": []
  }
 ],
 "metadata": {
  "anaconda-cloud": {},
  "kernelspec": {
   "display_name": "Python [Root]",
   "language": "python",
   "name": "Python [Root]"
  },
  "language_info": {
   "codemirror_mode": {
    "name": "ipython",
    "version": 3
   },
   "file_extension": ".py",
   "mimetype": "text/x-python",
   "name": "python",
   "nbconvert_exporter": "python",
   "pygments_lexer": "ipython3",
   "version": "3.5.2"
  }
 },
 "nbformat": 4,
 "nbformat_minor": 1
}
