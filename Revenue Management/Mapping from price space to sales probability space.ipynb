{
 "cells": [
  {
   "cell_type": "markdown",
   "metadata": {},
   "source": [
    "This shows a counterexample to the claim that the mapping from the price space to the sales probability space is injective. As it is not injective, the function is not bijective and thus an inverse cannot exist."
   ]
  },
  {
   "cell_type": "code",
   "execution_count": 1,
   "metadata": {
    "collapsed": true
   },
   "outputs": [],
   "source": [
    "import numpy as np"
   ]
  },
  {
   "cell_type": "code",
   "execution_count": 7,
   "metadata": {},
   "outputs": [
    {
     "name": "stdout",
     "output_type": "stream",
     "text": [
      "[ 0.97989531  0.01576396  0.12882503  0.6164992   0.57184006  0.49587616\n",
      "  0.79170961  0.23746805  0.24725927  0.75956498]\n"
     ]
    }
   ],
   "source": [
    "price = np.random.rand(10)\n",
    "print (price)"
   ]
  },
  {
   "cell_type": "code",
   "execution_count": 5,
   "metadata": {},
   "outputs": [
    {
     "name": "stdout",
     "output_type": "stream",
     "text": [
      "[ 0.00127104  0.79926116  0.01820977  0.62053967  0.55692244  0.58767296\n",
      "  0.67277654  0.7344664   0.37543905  0.58895621]\n"
     ]
    }
   ],
   "source": [
    "quality = np.random.rand(10)\n",
    "print (quality)"
   ]
  },
  {
   "cell_type": "code",
   "execution_count": 8,
   "metadata": {
    "collapsed": true
   },
   "outputs": [],
   "source": [
    "def probofproduct(price, quality, mu = 1):\n",
    "    array = np.exp((quality - price)/mu)\n",
    "    sum = np.sum(array)\n",
    "    \n",
    "    return array/sum"
   ]
  },
  {
   "cell_type": "code",
   "execution_count": 9,
   "metadata": {},
   "outputs": [
    {
     "data": {
      "text/plain": [
       "array([ 0.03398952,  0.19798155,  0.0809686 ,  0.09080525,  0.08909997,\n",
       "        0.0991341 ,  0.08029791,  0.14866196,  0.1028073 ,  0.07625385])"
      ]
     },
     "execution_count": 9,
     "metadata": {},
     "output_type": "execute_result"
    }
   ],
   "source": [
    "probofproduct(price, quality)"
   ]
  },
  {
   "cell_type": "code",
   "execution_count": 14,
   "metadata": {},
   "outputs": [
    {
     "name": "stdout",
     "output_type": "stream",
     "text": [
      "[ 1.60943791  1.60943791  1.60943791  1.60943791  1.60943791  1.60943791\n",
      "  1.60943791  1.60943791  1.60943791  1.60943791]\n"
     ]
    }
   ],
   "source": [
    "c = np.log(5) * np.ones((10,))\n",
    "print (c)"
   ]
  },
  {
   "cell_type": "code",
   "execution_count": 17,
   "metadata": {},
   "outputs": [
    {
     "name": "stdout",
     "output_type": "stream",
     "text": [
      "[ 2.58933322  1.62520188  1.73826294  2.22593711  2.18127798  2.10531407\n",
      "  2.40114752  1.84690596  1.85669718  2.36900289]\n"
     ]
    }
   ],
   "source": [
    "new_price = price + c\n",
    "print (new_price)"
   ]
  },
  {
   "cell_type": "code",
   "execution_count": 18,
   "metadata": {},
   "outputs": [
    {
     "data": {
      "text/plain": [
       "array([ 0.03398952,  0.19798155,  0.0809686 ,  0.09080525,  0.08909997,\n",
       "        0.0991341 ,  0.08029791,  0.14866196,  0.1028073 ,  0.07625385])"
      ]
     },
     "execution_count": 18,
     "metadata": {},
     "output_type": "execute_result"
    }
   ],
   "source": [
    "probofproduct(new_price, quality)"
   ]
  },
  {
   "cell_type": "code",
   "execution_count": null,
   "metadata": {
    "collapsed": true
   },
   "outputs": [],
   "source": []
  },
  {
   "cell_type": "code",
   "execution_count": null,
   "metadata": {
    "collapsed": true
   },
   "outputs": [],
   "source": []
  },
  {
   "cell_type": "code",
   "execution_count": null,
   "metadata": {
    "collapsed": true
   },
   "outputs": [],
   "source": []
  }
 ],
 "metadata": {
  "kernelspec": {
   "display_name": "Python 3",
   "language": "python",
   "name": "python3"
  },
  "language_info": {
   "codemirror_mode": {
    "name": "ipython",
    "version": 3
   },
   "file_extension": ".py",
   "mimetype": "text/x-python",
   "name": "python",
   "nbconvert_exporter": "python",
   "pygments_lexer": "ipython3",
   "version": "3.6.1"
  }
 },
 "nbformat": 4,
 "nbformat_minor": 2
}
