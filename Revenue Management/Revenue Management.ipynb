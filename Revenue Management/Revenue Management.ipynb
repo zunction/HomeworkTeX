{
 "cells": [
  {
   "cell_type": "markdown",
   "metadata": {},
   "source": [
    "## Revenue Management"
   ]
  },
  {
   "cell_type": "markdown",
   "metadata": {},
   "source": [
    "We consider the general case where the length of the buffer is $n$. Then the states are given by $\\mathcal{X}:=A \\cup B$, where $A= \\{0,\\ldots, n\\}$ and $B= \\{n+1,\\ldots, 2n+1\\}$, with $A$ denoting the states where the server is off and $B$ denoting the states where the server is on. The number of customers in the queue is exactly the state number for states in $A$ and the number of customers in the queue for states in $B$ is modulo $n+1$ of the state number. As for the action, we have $\\mathcal{A}(x) = \\{0,1\\}$ where 0 (1) means the server is off (on).\n",
    "\n",
    "For our exercise, we have `n=100`"
   ]
  },
  {
   "cell_type": "markdown",
   "metadata": {},
   "source": [
    "With that, we can get evaluate the reward function by considering cases.\n",
    "\n",
    "#### Server is switched off, $a = 0$\n",
    "\n",
    "- $x <n$, $R(x,a,w) = (1-w)(-x)+w(-x-1)$\n",
    "- $x =n$, $R(x,a,w) = (1-w)(-n)+w(-n-1000)$\n",
    "- $n< x < 2n+1$, $R(x,a,w) = (1-w)(-(x \\mod n+1))+w(-(x \\mod n+1)-1)$\n",
    "- $x =2n+1$, $R(x,a,w) = (1-w)(-n)+w(-n-1000)$\n",
    "\n",
    "#### Server is switched off, $a = 1$\n",
    "\n",
    "- $x <n$, $R(x,a,w) = (1-w)(-x)+w(-x-1)-10$\n",
    "- $x =n$, $R(x,a,w) = (1-w)(-n)+w(-n-1)-10$\n",
    "- $n< x < 2n+1$, $R(x,a,w) = (1-w)(-(x \\mod n+1))+w(-(x \\mod n+1)-1)$\n",
    "- $x =2n+1$, $R(x,a,w) = (1-w)(-n)+w(-n-1)$\n"
   ]
  },
  {
   "cell_type": "code",
   "execution_count": 1,
   "metadata": {
    "collapsed": true
   },
   "outputs": [],
   "source": [
    "import numpy as np"
   ]
  },
  {
   "cell_type": "code",
   "execution_count": 51,
   "metadata": {
    "collapsed": true
   },
   "outputs": [],
   "source": [
    "n = 100"
   ]
  },
  {
   "cell_type": "code",
   "execution_count": 86,
   "metadata": {},
   "outputs": [],
   "source": [
    "def reward_function(x,a,w = 0.75,n = 100):\n",
    "    \"\"\"\n",
    "    Computes the expected reward given current state x, action taken a, weight w and buffer length n.\n",
    "    \"\"\"\n",
    "    \n",
    "    if (x < n) and (a == 0):\n",
    "        r = (1-w)*(-x) + w*(-x-1)\n",
    "    elif ((x == n) or (x == 2*n+1)) and (a == 0):\n",
    "        r = (1-w)*(-n) + w*(-n-1000);\n",
    "    elif (x > n) and (x < (2*n+1) ) and (a == 0):\n",
    "        y = np.mod(x,n+1)\n",
    "        r = (1-w)*(-y) + w*(-y-1)\n",
    "    elif (x <= n) and (a == 1):\n",
    "        r = (1-w)*(-x) + w*(-x-1)-10\n",
    "    elif (x > n) and (x < (2*n+1) ) and (a == 1):\n",
    "        y = np.mod(x,n+1)\n",
    "        r = (1-w)*(-y) + w*(-y-1)\n",
    "    else: \n",
    "        r = (1-w)*(-n) + w*(-n-1)  \n",
    "        \n",
    "    return r    "
   ]
  },
  {
   "cell_type": "markdown",
   "metadata": {},
   "source": [
    "The function `reward_gen` generates two vectors `r0` and `r1` which gives us the expected rewards when we take $a=0$ and $a=1$ respectively."
   ]
  },
  {
   "cell_type": "code",
   "execution_count": 84,
   "metadata": {
    "collapsed": true
   },
   "outputs": [],
   "source": [
    "def reward_gen(w,n):\n",
    "    \"\"\"\n",
    "    Generates the rewards for action a=0 and a=1 given weight w and buffer length n.\n",
    "    \"\"\"\n",
    "    R0 = np.zeros(2*n+1+1)\n",
    "    R1 = np.zeros(2*n+1+1)\n",
    "    for i in range(2*n+1+1):\n",
    "        R0[i] = reward_function(i,0,w,n)\n",
    "        R1[i] = reward_function(i,1,w,n)\n",
    "        \n",
    "    return R0, R1   "
   ]
  },
  {
   "cell_type": "markdown",
   "metadata": {},
   "source": [
    "We generate the reward vectors `r0` and `r1` here."
   ]
  },
  {
   "cell_type": "code",
   "execution_count": 46,
   "metadata": {
    "collapsed": true
   },
   "outputs": [],
   "source": [
    "R0, R1 = reward_gen(.75, 100)"
   ]
  },
  {
   "cell_type": "markdown",
   "metadata": {},
   "source": [
    "We also have the discount factor $\\alpha = 0.98$"
   ]
  },
  {
   "cell_type": "code",
   "execution_count": 47,
   "metadata": {
    "collapsed": true
   },
   "outputs": [],
   "source": [
    "alpha = .98"
   ]
  },
  {
   "cell_type": "markdown",
   "metadata": {},
   "source": [
    "Taking the maximum over the possible action $\\mathcal{A}=\\{0,1\\}$ over the entire state space $\\mathcal{X}$, we get the reward vector `r`."
   ]
  },
  {
   "cell_type": "code",
   "execution_count": 48,
   "metadata": {
    "collapsed": true
   },
   "outputs": [],
   "source": [
    "R = np.maximum(R0,R1)"
   ]
  },
  {
   "cell_type": "code",
   "execution_count": 53,
   "metadata": {
    "collapsed": true
   },
   "outputs": [],
   "source": [
    "def T(R, J, alpha = 0.98):\n",
    "    \"\"\"\n",
    "    Applies the T operator:\n",
    "    (TJ)(x) = max E[R(x,a,w) + alpha*J(f(x,a,w))|x]\n",
    "    where r = max R(x,a,w) over action space\n",
    "          alpha is the discount factor\n",
    "          J is expected total reward\n",
    "    \"\"\"\n",
    "    J = R + alpha*J\n",
    "    \n",
    "    return J\n",
    "    "
   ]
  },
  {
   "cell_type": "markdown",
   "metadata": {},
   "source": [
    "#### Value iteration"
   ]
  },
  {
   "cell_type": "markdown",
   "metadata": {},
   "source": [
    "We initialise the initial `J` to be all zeros and apply the operator `T` 1000 times"
   ]
  },
  {
   "cell_type": "code",
   "execution_count": 128,
   "metadata": {},
   "outputs": [
    {
     "name": "stdout",
     "output_type": "stream",
     "text": [
      "Iterations: 1654\n",
      "Error: 0.0\n"
     ]
    }
   ],
   "source": [
    "J = np.zeros(2*n+1+1)\n",
    "err = 1\n",
    "k = 0\n",
    "while err > 0:\n",
    "    J = T(R, J)\n",
    "    err = norm((T(R,J)-J),1)\n",
    "    k += 1\n",
    "\n",
    "print ('Iterations:', k)    \n",
    "print ('Error:', err)"
   ]
  },
  {
   "cell_type": "markdown",
   "metadata": {},
   "source": [
    "From above, we see that we needed 1654 iterations for $(TJ^{k})(x) = J(x)$"
   ]
  },
  {
   "cell_type": "markdown",
   "metadata": {},
   "source": [
    "We would now like to derive a policy to based on the `J` values derived from value iteration"
   ]
  },
  {
   "cell_type": "code",
   "execution_count": 129,
   "metadata": {},
   "outputs": [],
   "source": [
    "K = J.reshape(2,101)"
   ]
  },
  {
   "cell_type": "code",
   "execution_count": 135,
   "metadata": {},
   "outputs": [
    {
     "data": {
      "text/plain": [
       "array([0, 0, 0, 0, 0, 0, 0, 0, 0, 0, 0, 0, 0, 0, 0, 0, 0, 0, 0, 0, 0, 0, 0,\n",
       "       0, 0, 0, 0, 0, 0, 0, 0, 0, 0, 0, 0, 0, 0, 0, 0, 0, 0, 0, 0, 0, 0, 0,\n",
       "       0, 0, 0, 0, 0, 0, 0, 0, 0, 0, 0, 0, 0, 0, 0, 0, 0, 0, 0, 0, 0, 0, 0,\n",
       "       0, 0, 0, 0, 0, 0, 0, 0, 0, 0, 0, 0, 0, 0, 0, 0, 0, 0, 0, 0, 0, 0, 0,\n",
       "       0, 0, 0, 0, 0, 0, 0, 0, 1], dtype=int64)"
      ]
     },
     "execution_count": 135,
     "metadata": {},
     "output_type": "execute_result"
    }
   ],
   "source": [
    "np.argmax(K,axis = 0)"
   ]
  },
  {
   "cell_type": "markdown",
   "metadata": {},
   "source": [
    "By comparing the the expected total reward for each state $x \\in \\mathcal{X}$ we see that the optimal policy is to keep the server off when there are less than 100 customers in the queue and to switch on the server when there are 100 customers in the queue. This policy can be explained by the huge cost incurred when a customer leaves when there is no more space in the buffer. Also the cost incurred when there are less than 100 customers in the queue is the same regardless of whether the server is on or off; the same cost in incurred whether we allow the customer to wait in the queue or when the server is switched on to serve the customer. The cost of 10 to switch on the server is also a deterance to switch on the server, unless we have a possibility of a large cost to be incurred; when there is no more space in the buffer."
   ]
  },
  {
   "cell_type": "markdown",
   "metadata": {},
   "source": [
    "#### Policy Iteration"
   ]
  },
  {
   "cell_type": "markdown",
   "metadata": {},
   "source": [
    "We initialise the initial stationary policy, `pi` to be switch off the server at every state"
   ]
  },
  {
   "cell_type": "code",
   "execution_count": 140,
   "metadata": {},
   "outputs": [],
   "source": [
    "pi = np.zeros(2*n+1)"
   ]
  },
  {
   "cell_type": "markdown",
   "metadata": {},
   "source": [
    "The transition probability matrix under policy `pi` is given by \n",
    "\n",
    "$$p_{ij}(\\text{pi}(i)) =\\begin{cases} \n",
    "0.25 &  j = i, pi(i) = 0\\\\\n",
    "0.75 &  j = i+1, pi(i) = 0\\\\\n",
    "0.25 &  j = i-1, pi(i) = 1\\\\\n",
    "0.75 &  j = i, pi(i) = 1\\\\\n",
    "0 & \\text{otherwise}\n",
    "\\end{cases} $$"
   ]
  },
  {
   "cell_type": "code",
   "execution_count": 164,
   "metadata": {},
   "outputs": [],
   "source": [
    "def trans_mat_gen(pi, n):\n",
    "    \"\"\"\n",
    "    Generates transition probability matrix under the policy pi. The buffer is of length n.\n",
    "    \"\"\"\n",
    "    P = np.zeros((n+1,n+1))\n",
    "    for i in range(P.shape[0]):\n",
    "        print (i)\n",
    "        print (P)\n",
    "        if pi[i] == 0:\n",
    "            P[i,i] = 0.25\n",
    "            P[i,i+1] = 0.75\n",
    "        else:\n",
    "            P[i,i-1] = 0.75\n",
    "            P[i,i] = 0.25\n",
    "        \n",
    "            \n",
    "    return P"
   ]
  },
  {
   "cell_type": "code",
   "execution_count": 165,
   "metadata": {
    "collapsed": true
   },
   "outputs": [],
   "source": [
    "pi = [0,1,0,0]"
   ]
  },
  {
   "cell_type": "code",
   "execution_count": 166,
   "metadata": {},
   "outputs": [
    {
     "name": "stdout",
     "output_type": "stream",
     "text": [
      "0\n",
      "[[ 0.  0.  0.  0.]\n",
      " [ 0.  0.  0.  0.]\n",
      " [ 0.  0.  0.  0.]\n",
      " [ 0.  0.  0.  0.]]\n",
      "1\n",
      "[[ 0.25  0.75  0.    0.  ]\n",
      " [ 0.    0.    0.    0.  ]\n",
      " [ 0.    0.    0.    0.  ]\n",
      " [ 0.    0.    0.    0.  ]]\n",
      "2\n",
      "[[ 0.25  0.75  0.    0.  ]\n",
      " [ 0.75  0.25  0.    0.  ]\n",
      " [ 0.    0.    0.    0.  ]\n",
      " [ 0.    0.    0.    0.  ]]\n",
      "3\n",
      "[[ 0.25  0.75  0.    0.  ]\n",
      " [ 0.75  0.25  0.    0.  ]\n",
      " [ 0.    0.    0.25  0.75]\n",
      " [ 0.    0.    0.    0.  ]]\n"
     ]
    },
    {
     "ename": "IndexError",
     "evalue": "index 4 is out of bounds for axis 1 with size 4",
     "output_type": "error",
     "traceback": [
      "\u001b[1;31m---------------------------------------------------------------------------\u001b[0m",
      "\u001b[1;31mIndexError\u001b[0m                                Traceback (most recent call last)",
      "\u001b[1;32m<ipython-input-166-d51671daa594>\u001b[0m in \u001b[0;36m<module>\u001b[1;34m()\u001b[0m\n\u001b[1;32m----> 1\u001b[1;33m \u001b[0mtrans_mat_gen\u001b[0m\u001b[1;33m(\u001b[0m\u001b[0mpi\u001b[0m\u001b[1;33m,\u001b[0m\u001b[1;36m3\u001b[0m\u001b[1;33m)\u001b[0m\u001b[1;33m\u001b[0m\u001b[0m\n\u001b[0m",
      "\u001b[1;32m<ipython-input-164-aca8f685e096>\u001b[0m in \u001b[0;36mtrans_mat_gen\u001b[1;34m(pi, n)\u001b[0m\n\u001b[0;32m      9\u001b[0m         \u001b[1;32mif\u001b[0m \u001b[0mpi\u001b[0m\u001b[1;33m[\u001b[0m\u001b[0mi\u001b[0m\u001b[1;33m]\u001b[0m \u001b[1;33m==\u001b[0m \u001b[1;36m0\u001b[0m\u001b[1;33m:\u001b[0m\u001b[1;33m\u001b[0m\u001b[0m\n\u001b[0;32m     10\u001b[0m             \u001b[0mP\u001b[0m\u001b[1;33m[\u001b[0m\u001b[0mi\u001b[0m\u001b[1;33m,\u001b[0m\u001b[0mi\u001b[0m\u001b[1;33m]\u001b[0m \u001b[1;33m=\u001b[0m \u001b[1;36m0.25\u001b[0m\u001b[1;33m\u001b[0m\u001b[0m\n\u001b[1;32m---> 11\u001b[1;33m             \u001b[0mP\u001b[0m\u001b[1;33m[\u001b[0m\u001b[0mi\u001b[0m\u001b[1;33m,\u001b[0m\u001b[0mi\u001b[0m\u001b[1;33m+\u001b[0m\u001b[1;36m1\u001b[0m\u001b[1;33m]\u001b[0m \u001b[1;33m=\u001b[0m \u001b[1;36m0.75\u001b[0m\u001b[1;33m\u001b[0m\u001b[0m\n\u001b[0m\u001b[0;32m     12\u001b[0m         \u001b[1;32melse\u001b[0m\u001b[1;33m:\u001b[0m\u001b[1;33m\u001b[0m\u001b[0m\n\u001b[0;32m     13\u001b[0m             \u001b[0mP\u001b[0m\u001b[1;33m[\u001b[0m\u001b[0mi\u001b[0m\u001b[1;33m,\u001b[0m\u001b[0mi\u001b[0m\u001b[1;33m-\u001b[0m\u001b[1;36m1\u001b[0m\u001b[1;33m]\u001b[0m \u001b[1;33m=\u001b[0m \u001b[1;36m0.75\u001b[0m\u001b[1;33m\u001b[0m\u001b[0m\n",
      "\u001b[1;31mIndexError\u001b[0m: index 4 is out of bounds for axis 1 with size 4"
     ]
    }
   ],
   "source": [
    "trans_mat_gen(pi,3)"
   ]
  },
  {
   "cell_type": "code",
   "execution_count": null,
   "metadata": {
    "collapsed": true
   },
   "outputs": [],
   "source": []
  },
  {
   "cell_type": "code",
   "execution_count": null,
   "metadata": {
    "collapsed": true
   },
   "outputs": [],
   "source": []
  },
  {
   "cell_type": "code",
   "execution_count": null,
   "metadata": {
    "collapsed": true
   },
   "outputs": [],
   "source": []
  },
  {
   "cell_type": "code",
   "execution_count": null,
   "metadata": {
    "collapsed": true
   },
   "outputs": [],
   "source": []
  },
  {
   "cell_type": "code",
   "execution_count": null,
   "metadata": {
    "collapsed": true
   },
   "outputs": [],
   "source": []
  },
  {
   "cell_type": "code",
   "execution_count": null,
   "metadata": {
    "collapsed": true
   },
   "outputs": [],
   "source": []
  },
  {
   "cell_type": "code",
   "execution_count": null,
   "metadata": {
    "collapsed": true
   },
   "outputs": [],
   "source": []
  },
  {
   "cell_type": "code",
   "execution_count": null,
   "metadata": {
    "collapsed": true
   },
   "outputs": [],
   "source": []
  },
  {
   "cell_type": "code",
   "execution_count": null,
   "metadata": {
    "collapsed": true
   },
   "outputs": [],
   "source": []
  },
  {
   "cell_type": "code",
   "execution_count": null,
   "metadata": {
    "collapsed": true
   },
   "outputs": [],
   "source": []
  },
  {
   "cell_type": "code",
   "execution_count": null,
   "metadata": {
    "collapsed": true
   },
   "outputs": [],
   "source": []
  },
  {
   "cell_type": "code",
   "execution_count": null,
   "metadata": {
    "collapsed": true
   },
   "outputs": [],
   "source": []
  },
  {
   "cell_type": "code",
   "execution_count": null,
   "metadata": {
    "collapsed": true
   },
   "outputs": [],
   "source": []
  },
  {
   "cell_type": "code",
   "execution_count": null,
   "metadata": {
    "collapsed": true
   },
   "outputs": [],
   "source": []
  },
  {
   "cell_type": "code",
   "execution_count": null,
   "metadata": {
    "collapsed": true
   },
   "outputs": [],
   "source": []
  },
  {
   "cell_type": "code",
   "execution_count": null,
   "metadata": {
    "collapsed": true
   },
   "outputs": [],
   "source": []
  },
  {
   "cell_type": "code",
   "execution_count": null,
   "metadata": {
    "collapsed": true
   },
   "outputs": [],
   "source": []
  },
  {
   "cell_type": "code",
   "execution_count": null,
   "metadata": {
    "collapsed": true
   },
   "outputs": [],
   "source": []
  },
  {
   "cell_type": "code",
   "execution_count": null,
   "metadata": {
    "collapsed": true
   },
   "outputs": [],
   "source": []
  },
  {
   "cell_type": "code",
   "execution_count": null,
   "metadata": {
    "collapsed": true
   },
   "outputs": [],
   "source": []
  },
  {
   "cell_type": "code",
   "execution_count": null,
   "metadata": {
    "collapsed": true
   },
   "outputs": [],
   "source": []
  },
  {
   "cell_type": "code",
   "execution_count": null,
   "metadata": {
    "collapsed": true
   },
   "outputs": [],
   "source": []
  },
  {
   "cell_type": "code",
   "execution_count": null,
   "metadata": {
    "collapsed": true
   },
   "outputs": [],
   "source": []
  },
  {
   "cell_type": "code",
   "execution_count": null,
   "metadata": {
    "collapsed": true
   },
   "outputs": [],
   "source": []
  },
  {
   "cell_type": "code",
   "execution_count": null,
   "metadata": {
    "collapsed": true
   },
   "outputs": [],
   "source": []
  },
  {
   "cell_type": "code",
   "execution_count": null,
   "metadata": {
    "collapsed": true
   },
   "outputs": [],
   "source": []
  },
  {
   "cell_type": "code",
   "execution_count": null,
   "metadata": {
    "collapsed": true
   },
   "outputs": [],
   "source": []
  },
  {
   "cell_type": "code",
   "execution_count": null,
   "metadata": {
    "collapsed": true
   },
   "outputs": [],
   "source": []
  }
 ],
 "metadata": {
  "kernelspec": {
   "display_name": "Python 3",
   "language": "python",
   "name": "python3"
  },
  "language_info": {
   "codemirror_mode": {
    "name": "ipython",
    "version": 3
   },
   "file_extension": ".py",
   "mimetype": "text/x-python",
   "name": "python",
   "nbconvert_exporter": "python",
   "pygments_lexer": "ipython3",
   "version": "3.6.3"
  }
 },
 "nbformat": 4,
 "nbformat_minor": 2
}
