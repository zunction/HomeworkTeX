{
 "cells": [
  {
   "cell_type": "code",
   "execution_count": 1,
   "metadata": {},
   "outputs": [
    {
     "name": "stderr",
     "output_type": "stream",
     "text": [
      "Using TensorFlow backend.\n"
     ]
    }
   ],
   "source": [
    "import numpy as np\n",
    "import os\n",
    "from keras.preprocessing.image import ImageDataGenerator, array_to_img, img_to_array, load_img"
   ]
  },
  {
   "cell_type": "markdown",
   "metadata": {},
   "source": [
    "Q1. The inputs are the pixels of the images and the output is one of the category from the set $\\{\\mathsf{airplane}, \\mathsf{automobile}, \\mathsf{bird}, \\mathsf{cat}\\}$."
   ]
  },
  {
   "cell_type": "code",
   "execution_count": 2,
   "metadata": {},
   "outputs": [
    {
     "name": "stdout",
     "output_type": "stream",
     "text": [
      "C:\\Users\\zlai\\Documents\\repo\\HomeworkTeX\\ML\\hw\n"
     ]
    }
   ],
   "source": [
    "# Check current working directory\n",
    "print (os.getcwd())"
   ]
  },
  {
   "cell_type": "code",
   "execution_count": 3,
   "metadata": {},
   "outputs": [],
   "source": [
    "# define the path of the data we are trying to convert from raw .jpg files to numpy arrays\n",
    "path_airplane_train = \"C:/Users/zlai/Documents/repo/HomeworkTex/ML/hw/homework 1/data/train/cat\"\n",
    "\n",
    "# path_automobile_train = \"C:/Users/zlai/Desktop/ML/homework 1/data/data/train/automobile\"\n",
    "# path_bird_train = \"C:/Users/zlai/Desktop/ML/homework 1/data/data/train/bird\"\n",
    "# path_cat_train = \"C:/Users/zlai/Desktop/ML/homework 1/data/data/train/cat\"\n",
    "\n",
    "# path_airplane_test = \"C:/Users/zlai/Desktop/ML/homework 1/data/data/test/airplane\"\n",
    "# path_automobile_test = \"C:/Users/zlai/Desktop/ML/homework 1/data/data/test/automobile\"\n",
    "# path_bird_test = \"C:/Users/zlai/Desktop/ML/homework 1/data/data/test/bird\"\n",
    "# path_cat_test = \"C:/Users/zlai/Desktop/ML/homework 1/data/data/test/cat\""
   ]
  },
  {
   "cell_type": "code",
   "execution_count": 4,
   "metadata": {},
   "outputs": [
    {
     "name": "stdout",
     "output_type": "stream",
     "text": [
      "['1.jpg', '10.jpg', '11.jpg', '12.jpg', '13.jpg', '14.jpg', '15.jpg', '16.jpg', '17.jpg', '18.jpg', '19.jpg', '2.jpg', '20.jpg', '3.jpg', '4.jpg', '5.jpg', '6.jpg', '7.jpg', '8.jpg', '9.jpg']\n",
      "20\n"
     ]
    }
   ],
   "source": [
    "# tells us there are 20 images from each class\n",
    "os.chdir(path_airplane_train)\n",
    "list = os.listdir()\n",
    "print (list)\n",
    "print (len(list))"
   ]
  },
  {
   "cell_type": "code",
   "execution_count": 5,
   "metadata": {},
   "outputs": [],
   "source": [
    "def my_img2array(data_loc):\n",
    "    \"\"\"\n",
    "    Loads the images of given class into numpy arrays.\n",
    "    Input:\n",
    "    - dataloc (string) : location of the .jpg data to be converted into numpy array.\n",
    "    \"\"\"\n",
    "    os.chdir(data_loc)\n",
    "    x = [] # empty list to append the arrays to\n",
    "    dir_list = os.listdir()\n",
    "    for i in dir_list: # enumerate over the number of images\n",
    "        img = load_img(i) # loads images into PIL format\n",
    "        t = img_to_array(img) # converts the PIL image into numpy format\n",
    "        x.append(t)\n",
    "    output = np.concatenate([i[np.newaxis] for i in x]) # np.newaxis increases the dim of the existing array by 1\n",
    "    \n",
    "    return output"
   ]
  },
  {
   "cell_type": "code",
   "execution_count": 6,
   "metadata": {},
   "outputs": [
    {
     "data": {
      "text/plain": [
       "(20, 32, 32, 3)"
      ]
     },
     "execution_count": 6,
     "metadata": {},
     "output_type": "execute_result"
    }
   ],
   "source": [
    "airplane_train = my_img2array(path_airplane_train)\n",
    "airplane_train.shape"
   ]
  },
  {
   "cell_type": "code",
   "execution_count": 7,
   "metadata": {},
   "outputs": [],
   "source": [
    "# save to the folder for future use without having to do the conversion again\n",
    "# np.save('airplane_train',airplane_train)"
   ]
  },
  {
   "cell_type": "code",
   "execution_count": null,
   "metadata": {},
   "outputs": [],
   "source": []
  }
 ],
 "metadata": {
  "kernelspec": {
   "display_name": "Python 3",
   "language": "python",
   "name": "python3"
  },
  "language_info": {
   "codemirror_mode": {
    "name": "ipython",
    "version": 3
   },
   "file_extension": ".py",
   "mimetype": "text/x-python",
   "name": "python",
   "nbconvert_exporter": "python",
   "pygments_lexer": "ipython3",
   "version": "3.5.6"
  }
 },
 "nbformat": 4,
 "nbformat_minor": 2
}
