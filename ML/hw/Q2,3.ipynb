{
 "cells": [
  {
   "cell_type": "markdown",
   "metadata": {},
   "source": [
    "Import required packages for homework task"
   ]
  },
  {
   "cell_type": "code",
   "execution_count": 1,
   "metadata": {},
   "outputs": [
    {
     "name": "stderr",
     "output_type": "stream",
     "text": [
      "Using TensorFlow backend.\n"
     ]
    }
   ],
   "source": [
    "import cv2\n",
    "import os\n",
    "import numpy as np\n",
    "import seaborn as sns\n",
    "import matplotlib.pyplot as plt\n",
    "sns.set()\n",
    "\n",
    "import keras\n",
    "from keras import callbacks\n",
    "from keras.datasets import mnist\n",
    "from keras.models import Sequential\n",
    "from keras.layers import *\n",
    "from keras.optimizers import RMSprop, SGD\n",
    "\n",
    "from matplotlib.colors import ListedColormap\n",
    "%matplotlib inline"
   ]
  },
  {
   "cell_type": "markdown",
   "metadata": {},
   "source": [
    "Change to the directory containing the images"
   ]
  },
  {
   "cell_type": "code",
   "execution_count": 2,
   "metadata": {},
   "outputs": [],
   "source": [
    "path = \"C:/Users/zlai/Documents/repo/HomeworkTex/ML/hw/homework 1/data/train/airplane\"\n",
    "os.chdir(path)"
   ]
  },
  {
   "cell_type": "markdown",
   "metadata": {},
   "source": [
    "**Q1.** The inputs are feature vectors that describe the images and the output is the correct label of the image class from the set $\\{\\mathsf{airplane}, \\mathsf{automobile}, \\mathsf{bird}, \\mathsf{cat}\\}$."
   ]
  },
  {
   "cell_type": "markdown",
   "metadata": {},
   "source": [
    "Converting the image image into a feature vector"
   ]
  },
  {
   "cell_type": "markdown",
   "metadata": {},
   "source": [
    "1. Using the raw pixel values"
   ]
  },
  {
   "cell_type": "markdown",
   "metadata": {},
   "source": [
    "For each `.jpg` image, we can extract the raw pixel values using `cv2.imread` which returns an array representing the raw RGB intensities of the image. Using `.flatten()` we convert the raw image from a multi-dimensional array into a single array of values with dimensions `(3072,)`, which can be used as the input for the classification problem."
   ]
  },
  {
   "cell_type": "code",
   "execution_count": 3,
   "metadata": {},
   "outputs": [
    {
     "name": "stdout",
     "output_type": "stream",
     "text": [
      "(32, 32, 3)\n"
     ]
    },
    {
     "data": {
      "image/png": "[encoded data removed]",
      "text/plain": [
       "<Figure size 432x288 with 1 Axes>"
      ]
     },
     "metadata": {
      "needs_background": "light"
     },
     "output_type": "display_data"
    }
   ],
   "source": [
    "raw_img = cv2.imread('1.jpg')\n",
    "print (raw_img.shape)\n",
    "plt.imshow(raw_img)\n",
    "plt.grid(False)"
   ]
  },
  {
   "cell_type": "code",
   "execution_count": 4,
   "metadata": {},
   "outputs": [],
   "source": [
    "def convert2pixel_value(filename):\n",
    "    \"\"\"\n",
    "    Converts the filename into a flatten numpy array of the raw pixel values.\n",
    "    Input:\n",
    "    - filename (string): name of the file to be processed.\n",
    "    \"\"\"\n",
    "    raw_img = cv2.imread(filename)\n",
    "    \n",
    "    return raw_img.flatten()"
   ]
  },
  {
   "cell_type": "code",
   "execution_count": 5,
   "metadata": {},
   "outputs": [
    {
     "name": "stdout",
     "output_type": "stream",
     "text": [
      "(3072,)\n"
     ]
    }
   ],
   "source": [
    "out = convert2pixel_value('1.jpg')\n",
    "print (out.shape)"
   ]
  },
  {
   "cell_type": "markdown",
   "metadata": {},
   "source": [
    "2. Using the mean and standard deviation of each color channel"
   ]
  },
  {
   "cell_type": "markdown",
   "metadata": {},
   "source": [
    "From each raw image, we can extract out the color channels (RGB), and find the mean and standard deviation value of each color. This array can be used as the feature vector for the classification problem."
   ]
  },
  {
   "cell_type": "code",
   "execution_count": 6,
   "metadata": {},
   "outputs": [],
   "source": [
    "def convert2color_mean_std(filename):\n",
    "    \"\"\"\n",
    "    Converts the filename into the mean and standard deviation of the different color channels (RGB).\n",
    "    Input:\n",
    "    - filename (string): name of the file to be processed.\n",
    "    \"\"\"\n",
    "    raw_img = cv2.imread(filename)\n",
    "        \n",
    "    return cv2.meanStdDev(raw_img)"
   ]
  },
  {
   "cell_type": "code",
   "execution_count": 7,
   "metadata": {},
   "outputs": [],
   "source": [
    "(mean,std) = convert2color_mean_std('1.jpg')"
   ]
  },
  {
   "cell_type": "code",
   "execution_count": 8,
   "metadata": {},
   "outputs": [
    {
     "name": "stdout",
     "output_type": "stream",
     "text": [
      "[[148.86035156]\n",
      " [148.71875   ]\n",
      " [148.17578125]]\n",
      "[[90.06941242]\n",
      " [92.22082554]\n",
      " [91.80958747]]\n"
     ]
    }
   ],
   "source": [
    "print (mean)\n",
    "print (std)"
   ]
  },
  {
   "cell_type": "markdown",
   "metadata": {},
   "source": [
    "3. Using a color histogram"
   ]
  },
  {
   "cell_type": "markdown",
   "metadata": {},
   "source": [
    "Given a raw image, we can also extract the color histogram of the image. Depending on the number of bins chosen for the histogram, it will decide the dimension of this feature vector. For example, if we choose 8 bins for each histogram, this means that the values for each color channel will be classified into the following ranges: 0-31, 32-63, 64-95, 96-127, 128-159, 160-191, 192-223, 224-256."
   ]
  },
  {
   "cell_type": "code",
   "execution_count": 9,
   "metadata": {},
   "outputs": [],
   "source": [
    "def convert2color_hist(filename, bin):\n",
    "    \"\"\"\n",
    "    Converts the filename into a histogram with bin bins for each of the different color channels (RGB). The concatenated \n",
    "    vector of the different color histogram is returned.\n",
    "    Input:\n",
    "    - filename (string): name of the file to be processed.\n",
    "    - bin: number of bins for the histogram of each color channel.\n",
    "    \"\"\"\n",
    "    raw_img = cv2.imread(filename)\n",
    "    hist = []\n",
    "    color = ('b','g','r')\n",
    "    for channel,col in enumerate(color):\n",
    "        histr = cv2.calcHist([raw_img],[channel],None,[bin],[0,256])\n",
    "        hist.append(histr)\n",
    "    return np.concatenate(hist)"
   ]
  },
  {
   "cell_type": "code",
   "execution_count": 10,
   "metadata": {},
   "outputs": [
    {
     "name": "stdout",
     "output_type": "stream",
     "text": [
      "(24, 1)\n"
     ]
    }
   ],
   "source": [
    "output = convert2color_hist('1.jpg',bin=8)\n",
    "print (output.shape)"
   ]
  },
  {
   "cell_type": "markdown",
   "metadata": {},
   "source": [
    "We can also use a 3D histogram as the feature vector. Depending on the choice of the number of bins, `b`, we will get a multi-dimensional array of shape `(b,b,b)`. This describes the number of pixels that have blue, green and red in the different intervals corresponding to the number of bins selected. To use it as a feature vector, we simply flatten it to get a vector of dimension `b**3`. "
   ]
  },
  {
   "cell_type": "code",
   "execution_count": 11,
   "metadata": {},
   "outputs": [],
   "source": [
    "def convert2color_3Dhist(filename, bin = 8):\n",
    "    \"\"\"\n",
    "    Converts the filename into a 3D histogram. The 3D histogram values are then flattened to return a single dimension array.\n",
    "    Input:\n",
    "    - filename (string): name of the file to be processed.\n",
    "    - bin: number of bins for the histogram of each color channel.\n",
    "    \"\"\"\n",
    "    raw_img = cv2.imread(filename)\n",
    "    histr = cv2.calcHist([raw_img],[0,1,2],None,[bin]*3,[0,256]*3)\n",
    "        \n",
    "    return histr.flatten()"
   ]
  },
  {
   "cell_type": "code",
   "execution_count": 12,
   "metadata": {},
   "outputs": [
    {
     "name": "stdout",
     "output_type": "stream",
     "text": [
      "(512,)\n"
     ]
    }
   ],
   "source": [
    "output = convert2color_3Dhist('1.jpg')\n",
    "print (output.shape)"
   ]
  },
  {
   "cell_type": "markdown",
   "metadata": {
    "collapsed": true
   },
   "source": [
    "**Q2.** Logistic regression algorithm using stochastic gradient descent to perform binary classification"
   ]
  },
  {
   "cell_type": "code",
   "execution_count": 13,
   "metadata": {},
   "outputs": [],
   "source": [
    "def load_data(path, feature = 'raw'):\n",
    "    \"\"\"\n",
    "    Loads data into pixel values from the list of path given. Returns \n",
    "    Input:\n",
    "    - path (list): list of path to load the data from.\n",
    "    - feature: either 'raw' or 'hist' for raw pixel values and 3D histogram respectively.\n",
    "    \"\"\"\n",
    "    x_train=[]\n",
    "    y_train=[]\n",
    "    for c,i in enumerate(path):\n",
    "        os.chdir(i)\n",
    "        l = os.listdir()\n",
    "        for i in l:\n",
    "            if feature == 'raw':\n",
    "                vf = convert2pixel_value(i)\n",
    "            else:\n",
    "                vf = convert2color_3Dhist(i)\n",
    "            x_train.append(vf)\n",
    "            y_train.append(c)\n",
    "    \n",
    "    x_train = np.concatenate([i[np.newaxis] for i in x_train])\n",
    "    y_train = np.array(y_train)\n",
    "    \n",
    "    # comment below to remove the shuffling of the data\n",
    "    arr = np.arange(x_train.shape[0])\n",
    "    np.random.shuffle(arr)\n",
    "    x_train = x_train[arr]\n",
    "    y_train = y_train[arr]\n",
    "    \n",
    "    return x_train, y_train"
   ]
  },
  {
   "cell_type": "markdown",
   "metadata": {},
   "source": [
    "Define the path to the directories containing the images then load the data set using `load_data`."
   ]
  },
  {
   "cell_type": "code",
   "execution_count": 14,
   "metadata": {},
   "outputs": [],
   "source": [
    "train_bird = \"C:/Users/zlai/Documents/repo/HomeworkTex/ML/hw/homework 1/data/train/bird\"\n",
    "train_cat = \"C:/Users/zlai/Documents/repo/HomeworkTex/ML/hw/homework 1/data/train/cat\"\n",
    "test_bird = \"C:/Users/zlai/Documents/repo/HomeworkTex/ML/hw/homework 1/data/test/bird\"\n",
    "test_cat = \"C:/Users/zlai/Documents/repo/HomeworkTex/ML/hw/homework 1/data/test/cat\""
   ]
  },
  {
   "cell_type": "markdown",
   "metadata": {},
   "source": [
    "Load the data from `bird` and `cat` folders"
   ]
  },
  {
   "cell_type": "code",
   "execution_count": 15,
   "metadata": {},
   "outputs": [],
   "source": [
    "x_train, y_train = load_data([train_cat, train_bird])\n",
    "x_test, y_test = load_data([test_cat, test_bird])"
   ]
  },
  {
   "cell_type": "code",
   "execution_count": 16,
   "metadata": {},
   "outputs": [
    {
     "data": {
      "text/plain": [
       "(40, 3072)"
      ]
     },
     "execution_count": 16,
     "metadata": {},
     "output_type": "execute_result"
    }
   ],
   "source": [
    "x_train.shape"
   ]
  },
  {
   "cell_type": "markdown",
   "metadata": {},
   "source": [
    "We do some preprocessing of the training data by normalizing the pixel values to between $[0,1]$ and the labels to be $\\{-1,+1\\}$."
   ]
  },
  {
   "cell_type": "code",
   "execution_count": 17,
   "metadata": {},
   "outputs": [],
   "source": [
    "def add_bias(dataset):\n",
    "    \"\"\"\n",
    "    Add a one to each sample for bias. Dataset must be of the form rows: samples, columns: features\n",
    "    \"\"\"\n",
    "    n, m = dataset.shape\n",
    "    out = np.ones((n, m+1))\n",
    "    out[:,:-1] = dataset\n",
    "    return out    "
   ]
  },
  {
   "cell_type": "code",
   "execution_count": 18,
   "metadata": {},
   "outputs": [],
   "source": [
    "x_train = x_train/255\n",
    "x_test = x_test/255\n",
    "y_train = y_train*2 - 1\n",
    "y_test = y_test*2 - 1"
   ]
  },
  {
   "cell_type": "code",
   "execution_count": 19,
   "metadata": {},
   "outputs": [],
   "source": [
    "x_train = add_bias(x_train)\n",
    "x_test = add_bias(x_test)"
   ]
  },
  {
   "cell_type": "code",
   "execution_count": 20,
   "metadata": {},
   "outputs": [
    {
     "name": "stdout",
     "output_type": "stream",
     "text": [
      "40 training samples\n",
      "40 test samples\n"
     ]
    }
   ],
   "source": [
    "print (x_train.shape[0], 'training samples')\n",
    "print (x_test.shape[0], 'test samples')"
   ]
  },
  {
   "cell_type": "markdown",
   "metadata": {},
   "source": [
    "Define some basic functions for computing the loss and gradient of the model"
   ]
  },
  {
   "cell_type": "code",
   "execution_count": 21,
   "metadata": {},
   "outputs": [],
   "source": [
    "def sigmoid(x):\n",
    "    \"\"\"\n",
    "    Applies the sigmoid function on the given vector.\n",
    "    Input(s):\n",
    "    - x : numpy vector of values\n",
    "    \"\"\"\n",
    "    return 1/(1+np.exp(-x))"
   ]
  },
  {
   "cell_type": "code",
   "execution_count": 22,
   "metadata": {},
   "outputs": [],
   "source": [
    "def initialize_params(size=3073, seed=123):\n",
    "    \"\"\"\n",
    "    Initialize parameters W weights and b biases.\n",
    "    Input(s):\n",
    "    - size (int): size of the parameters\n",
    "    - seed (int): seed for the random number generator\n",
    "    \"\"\"\n",
    "    rng = np.random.RandomState(seed)\n",
    "    \n",
    "    return rng.normal(size=(size,))"
   ]
  },
  {
   "cell_type": "code",
   "execution_count": 23,
   "metadata": {},
   "outputs": [],
   "source": [
    "def log_loss(x_train, y_train, W):\n",
    "    \"\"\"\n",
    "    Computes the loss value of the logistic loss.\n",
    "    Input(s):\n",
    "    - x_train, y_train: training data and labels. x_train takes different forms depending on the features used and y_train\n",
    "                        is {-1,+1}.\n",
    "    - W: value of the parameters.                    \n",
    "    \"\"\"\n",
    "    z = y_train * np.dot(x_train, W)\n",
    "    h = sigmoid(z)\n",
    "    \n",
    "    return -np.mean(np.log(h))   "
   ]
  },
  {
   "cell_type": "code",
   "execution_count": 24,
   "metadata": {},
   "outputs": [
    {
     "data": {
      "text/plain": [
       "array([[0.15686275, 0.30588235, 0.49411765, ..., 0.48235294, 0.62745098,\n",
       "        1.        ],\n",
       "       [0.0745098 , 0.01176471, 0.03921569, ..., 0.09019608, 0.10196078,\n",
       "        1.        ],\n",
       "       [0.69803922, 0.70980392, 0.76470588, ..., 0.81960784, 0.83921569,\n",
       "        1.        ],\n",
       "       ...,\n",
       "       [0.43137255, 0.49411765, 0.52156863, ..., 0.49019608, 0.46666667,\n",
       "        1.        ],\n",
       "       [0.76862745, 0.77647059, 0.80784314, ..., 0.72941176, 0.7372549 ,\n",
       "        1.        ],\n",
       "       [0.28627451, 0.39607843, 0.4       , ..., 0.2627451 , 0.3372549 ,\n",
       "        1.        ]])"
      ]
     },
     "execution_count": 24,
     "metadata": {},
     "output_type": "execute_result"
    }
   ],
   "source": [
    "x_train"
   ]
  },
  {
   "cell_type": "code",
   "execution_count": 25,
   "metadata": {},
   "outputs": [
    {
     "name": "stdout",
     "output_type": "stream",
     "text": [
      "[ 0.01624345 -0.00611756 -0.00528172 ...  0.01377667  0.00636284\n",
      "  0.00055297]\n"
     ]
    },
    {
     "data": {
      "text/plain": [
       "0.7008910508715915"
      ]
     },
     "execution_count": 25,
     "metadata": {},
     "output_type": "execute_result"
    }
   ],
   "source": [
    "W = initialize_params(seed=1) * 0.01\n",
    "print (W)\n",
    "log_loss(x_train, y_train, W)"
   ]
  },
  {
   "cell_type": "code",
   "execution_count": 26,
   "metadata": {},
   "outputs": [],
   "source": [
    "def log_grad(x_train, y_train, W):\n",
    "    \"\"\"\n",
    "    Computes the gradient of the logistic loss function.\n",
    "    Input(s):\n",
    "    - x_train, y_train: training data and labels. x_train takes different forms depending on the features used and y_train\n",
    "                        is {-1,+1}.\n",
    "    - W: value of the parameters.                    \n",
    "    \"\"\"\n",
    "    z = y_train * np.dot(x_train, W)\n",
    "    h = sigmoid(z)\n",
    "    n = x_train.shape[0]\n",
    "    \n",
    "    return 1/n * np.dot(x_train.T,(y_train * (h-1)))    "
   ]
  },
  {
   "cell_type": "code",
   "execution_count": 27,
   "metadata": {},
   "outputs": [],
   "source": [
    "def next_batch(x_train, y_train, batch_size=2):\n",
    "    \"\"\"\n",
    "    Returns a batch of size batch_size for stochastic gradient descent.\n",
    "    - x_train, y_train: training data and labels. x_train takes different forms depending on the features used and y_train\n",
    "                        is {-1,+1}.\n",
    "    - batch_size (int): size of each batch.                    \n",
    "    \"\"\"\n",
    "    for i in np.arange(0, x_train.shape[0], batch_size):\n",
    "        yield (x_train[i:i+batch_size],y_train[i:i+batch_size])\n"
   ]
  },
  {
   "cell_type": "code",
   "execution_count": 28,
   "metadata": {},
   "outputs": [],
   "source": [
    "def log_classifier(x_test, learnt_W):\n",
    "    \"\"\"\n",
    "    Takes in the test set and learnt parameters and returns the accuracy of the classifier on the test set.\n",
    "    Inputs:\n",
    "    -\n",
    "    \"\"\"\n",
    "    return (sigmoid(np.dot(x_test, learnt_W)) >= .5) * 2 - 1"
   ]
  },
  {
   "cell_type": "code",
   "execution_count": 29,
   "metadata": {},
   "outputs": [],
   "source": [
    "def log_accuracy(x_test, y_test, learnt_W):\n",
    "    \"\"\"\n",
    "    Returns the accuracy of the model with parameters learnt_W.\n",
    "    Input(s):\n",
    "    - \n",
    "    \"\"\"\n",
    "    output = log_classifier(x_test, learnt_W)\n",
    "    return np.sum(np.absolute(y_test - output) == 0)/y_test.shape[0]"
   ]
  },
  {
   "cell_type": "code",
   "execution_count": 30,
   "metadata": {},
   "outputs": [],
   "source": [
    "def log_train(x_train, y_train, x_test, y_test, W, alpha=0.01, batch_size = 4, epoch = 100):\n",
    "    \"\"\"\n",
    "    Trains the model with given learning rate alpha, batch_size, epoch and initialized parameters W.\n",
    "    \"\"\"\n",
    "    loss_history = []\n",
    "    train_acc_history = []\n",
    "    test_acc_history = []\n",
    "    for e in np.arange(epoch):\n",
    "        epoch_loss = []\n",
    "        for (batchx, batchy) in next_batch(x_train, y_train):\n",
    "            loss = log_loss(batchx, batchy, W)\n",
    "            grad = log_grad(batchx, batchy, W)\n",
    "            epoch_loss.append(loss)\n",
    "            W += -alpha * grad\n",
    "        loss_history.append(np.average(epoch_loss))\n",
    "        train_acc = log_accuracy(x_train, y_train, W)\n",
    "        test_acc = log_accuracy(x_test, y_test, W)\n",
    "        train_acc_history.append(train_acc)\n",
    "        test_acc_history.append(test_acc)\n",
    "    \n",
    "    return loss_history, train_acc_history, test_acc_history, W    "
   ]
  },
  {
   "cell_type": "code",
   "execution_count": 31,
   "metadata": {},
   "outputs": [],
   "source": [
    "def log_plot(loss_history, train_acc_history, test_acc_history):\n",
    "    \"\"\"\n",
    "    Plots out the loss function value for the different epochs and the accuracy of the test set for the \n",
    "    parameters learnt in the different epochs.\n",
    "    Input(s):\n",
    "    - loss_history: list containing the change in the loss value over the epochs\n",
    "    - acc_history: list containing the accuracy value of the test set over the epochs\n",
    "    \"\"\"\n",
    "    f, (ax1, ax2) = plt.subplots(1, 2,figsize=(15,5))\n",
    "    ax1.plot(loss_history, color='r')\n",
    "    # ax1.plot(model_log.history['val_acc'])\n",
    "    ax1.set_title('Loss (Lower Better)')\n",
    "    ax1.set(xlabel='Epoch', ylabel='Loss')\n",
    "    ax1.legend(['train', 'validation'], loc='upper right')\n",
    "\n",
    "    ax2.plot(train_acc_history)\n",
    "    ax2.plot(test_acc_history)\n",
    "    ax2.set_title('Accuracy (Higher Better)')\n",
    "    ax2.set(xlabel='Epoch', ylabel='Accuracy')\n",
    "    ax2.legend(['train', 'test'], loc='center right')"
   ]
  },
  {
   "cell_type": "code",
   "execution_count": 32,
   "metadata": {},
   "outputs": [],
   "source": [
    "W = initialize_params(seed=1)\n",
    "loss_history, train_acc_history, test_acc_history, learnt_W = log_train(x_train, y_train, x_test, y_test, W, epoch=100)"
   ]
  },
  {
   "cell_type": "code",
   "execution_count": 33,
   "metadata": {},
   "outputs": [
    {
     "data": {
      "image/png": "[encoded data removed]",
      "text/plain": [
       "<Figure size 1080x360 with 2 Axes>"
      ]
     },
     "metadata": {
      "needs_background": "light"
     },
     "output_type": "display_data"
    }
   ],
   "source": [
    "log_plot(loss_history, train_acc_history, test_acc_history)"
   ]
  },
  {
   "cell_type": "markdown",
   "metadata": {},
   "source": [
    "3D histogram"
   ]
  },
  {
   "cell_type": "code",
   "execution_count": 34,
   "metadata": {},
   "outputs": [],
   "source": [
    "xh_train, yh_train = load_data([train_cat, train_bird], feature = None)\n",
    "xh_test, yh_test = load_data([test_cat, test_bird], feature=None)"
   ]
  },
  {
   "cell_type": "code",
   "execution_count": 35,
   "metadata": {},
   "outputs": [
    {
     "name": "stdout",
     "output_type": "stream",
     "text": [
      "(40, 512)\n"
     ]
    }
   ],
   "source": [
    "print (xh_train.shape)"
   ]
  },
  {
   "cell_type": "code",
   "execution_count": 36,
   "metadata": {},
   "outputs": [],
   "source": [
    "# xh_train = xh_train/1024\n",
    "# xh_test = xh_test/1024\n",
    "yh_train = yh_train*2 - 1\n",
    "yh_test = yh_test*2 - 1"
   ]
  },
  {
   "cell_type": "code",
   "execution_count": 37,
   "metadata": {},
   "outputs": [],
   "source": [
    "xh_train = add_bias(xh_train)\n",
    "xh_test = add_bias(xh_test)"
   ]
  },
  {
   "cell_type": "code",
   "execution_count": 38,
   "metadata": {},
   "outputs": [
    {
     "name": "stdout",
     "output_type": "stream",
     "text": [
      "(40, 513)\n"
     ]
    }
   ],
   "source": [
    "print (xh_train.shape)"
   ]
  },
  {
   "cell_type": "code",
   "execution_count": 39,
   "metadata": {},
   "outputs": [
    {
     "name": "stderr",
     "output_type": "stream",
     "text": [
      "C:\\Users\\zlai\\AppData\\Local\\Continuum\\anaconda3\\envs\\mlhw\\lib\\site-packages\\ipykernel_launcher.py:12: RuntimeWarning: divide by zero encountered in log\n",
      "  if sys.path[0] == '':\n"
     ]
    }
   ],
   "source": [
    "Wh = initialize_params(size = xh_train.shape[1], seed=1)\n",
    "loss_historyh, train_acc_historyh, test_acc_historyh, learnt_Wh = log_train(xh_train, yh_train, xh_test, yh_test, Wh, epoch=100)"
   ]
  },
  {
   "cell_type": "code",
   "execution_count": 40,
   "metadata": {},
   "outputs": [
    {
     "data": {
      "image/png": "[encoded data removed]",
      "text/plain": [
       "<Figure size 1080x360 with 2 Axes>"
      ]
     },
     "metadata": {
      "needs_background": "light"
     },
     "output_type": "display_data"
    }
   ],
   "source": [
    "log_plot(loss_historyh, train_acc_historyh, test_acc_historyh)"
   ]
  },
  {
   "cell_type": "markdown",
   "metadata": {},
   "source": [
    "**Q3.** Hinge loss with stochastic gradient descent to perform binary classification"
   ]
  },
  {
   "cell_type": "code",
   "execution_count": null,
   "metadata": {},
   "outputs": [],
   "source": []
  },
  {
   "cell_type": "code",
   "execution_count": null,
   "metadata": {},
   "outputs": [],
   "source": []
  },
  {
   "cell_type": "code",
   "execution_count": null,
   "metadata": {},
   "outputs": [],
   "source": []
  },
  {
   "cell_type": "code",
   "execution_count": null,
   "metadata": {},
   "outputs": [],
   "source": []
  }
 ],
 "metadata": {
  "kernelspec": {
   "display_name": "Python 3",
   "language": "python",
   "name": "python3"
  },
  "language_info": {
   "codemirror_mode": {
    "name": "ipython",
    "version": 3
   },
   "file_extension": ".py",
   "mimetype": "text/x-python",
   "name": "python",
   "nbconvert_exporter": "python",
   "pygments_lexer": "ipython3",
   "version": "3.5.6"
  }
 },
 "nbformat": 4,
 "nbformat_minor": 2
}
