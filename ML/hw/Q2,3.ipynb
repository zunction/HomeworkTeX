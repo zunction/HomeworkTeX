{
 "cells": [
  {
   "cell_type": "markdown",
   "metadata": {},
   "source": [
    "Import required packages for homework task"
   ]
  },
  {
   "cell_type": "code",
   "execution_count": 1,
   "metadata": {},
   "outputs": [
    {
     "name": "stderr",
     "output_type": "stream",
     "text": [
      "Using TensorFlow backend.\n"
     ]
    }
   ],
   "source": [
    "import cv2\n",
    "import os\n",
    "import numpy as np\n",
    "import seaborn as sns\n",
    "import matplotlib.pyplot as plt\n",
    "sns.set()\n",
    "\n",
    "from utils import *\n",
    "\n",
    "import keras\n",
    "from keras import callbacks\n",
    "from keras.datasets import mnist\n",
    "from keras.models import Sequential\n",
    "from keras.layers import *\n",
    "from keras.optimizers import RMSprop, SGD\n",
    "\n",
    "from matplotlib.colors import ListedColormap\n",
    "%matplotlib inline"
   ]
  },
  {
   "cell_type": "markdown",
   "metadata": {
    "collapsed": true
   },
   "source": [
    "**Q2.** Logistic regression algorithm using stochastic gradient descent to perform binary classification"
   ]
  },
  {
   "cell_type": "code",
   "execution_count": 2,
   "metadata": {},
   "outputs": [],
   "source": [
    "def load_data(path, feature = 'raw'):\n",
    "    \"\"\"\n",
    "    Loads data into pixel values from the list of path given. Returns \n",
    "    Input:\n",
    "    - path (list): list of path to load the data from.\n",
    "    - feature: either 'raw' or 'hist' for raw pixel values and 3D histogram respectively.\n",
    "    \"\"\"\n",
    "    x_train=[]\n",
    "    y_train=[]\n",
    "    for c,i in enumerate(path):\n",
    "        os.chdir(i)\n",
    "        l = os.listdir()\n",
    "        for i in l:\n",
    "            if feature == 'raw':\n",
    "                vf = convert2pixel_value(i)\n",
    "            else:\n",
    "                vf = convert2color_3Dhist(i)\n",
    "            x_train.append(vf)\n",
    "            y_train.append(c)\n",
    "    \n",
    "    x_train = np.concatenate([i[np.newaxis] for i in x_train])\n",
    "    y_train = np.array(y_train)\n",
    "    \n",
    "    # comment below to remove the shuffling of the data\n",
    "    arr = np.arange(x_train.shape[0])\n",
    "    np.random.shuffle(arr)\n",
    "    x_train = x_train[arr]\n",
    "    y_train = y_train[arr]\n",
    "    \n",
    "    return x_train, y_train"
   ]
  },
  {
   "cell_type": "markdown",
   "metadata": {},
   "source": [
    "Define the path to the directories containing the images then load the data set using `load_data`."
   ]
  },
  {
   "cell_type": "code",
   "execution_count": 3,
   "metadata": {},
   "outputs": [],
   "source": [
    "train_bird = \"C:/Users/zlai/Documents/repo/HomeworkTex/ML/hw/homework 1/data/train/bird\"\n",
    "train_cat = \"C:/Users/zlai/Documents/repo/HomeworkTex/ML/hw/homework 1/data/train/cat\"\n",
    "test_bird = \"C:/Users/zlai/Documents/repo/HomeworkTex/ML/hw/homework 1/data/test/bird\"\n",
    "test_cat = \"C:/Users/zlai/Documents/repo/HomeworkTex/ML/hw/homework 1/data/test/cat\""
   ]
  },
  {
   "cell_type": "markdown",
   "metadata": {},
   "source": [
    "Load the data from `bird` and `cat` folders, and we shall let `x1`, `y1` refer to the raw pixel value feature and `x2`, `y2` refer to the feature obtained by using the 3D histogram in this jupyter notebook."
   ]
  },
  {
   "cell_type": "code",
   "execution_count": 4,
   "metadata": {},
   "outputs": [],
   "source": [
    "x1_train, y1_train = load_data([train_cat, train_bird])\n",
    "x1_test, y1_test = load_data([test_cat, test_bird])"
   ]
  },
  {
   "cell_type": "code",
   "execution_count": 5,
   "metadata": {},
   "outputs": [
    {
     "data": {
      "text/plain": [
       "(40, 3072)"
      ]
     },
     "execution_count": 5,
     "metadata": {},
     "output_type": "execute_result"
    }
   ],
   "source": [
    "x1_train.shape"
   ]
  },
  {
   "cell_type": "markdown",
   "metadata": {},
   "source": [
    "We do some preprocessing of the training data by normalizing the pixel values to between $[0,1]$ and the labels to be $\\{-1,+1\\}$."
   ]
  },
  {
   "cell_type": "code",
   "execution_count": 6,
   "metadata": {},
   "outputs": [],
   "source": [
    "def add_bias(dataset):\n",
    "    \"\"\"\n",
    "    Add a one to each sample for bias. Dataset must be of the form rows: samples, columns: features\n",
    "    \"\"\"\n",
    "    n, m = dataset.shape\n",
    "    out = np.ones((n, m+1))\n",
    "    out[:,:-1] = dataset\n",
    "    return out    "
   ]
  },
  {
   "cell_type": "code",
   "execution_count": 7,
   "metadata": {},
   "outputs": [],
   "source": [
    "x1_train = x1_train/255\n",
    "x1_test = x1_test/255\n",
    "y1_train = y1_train*2 - 1\n",
    "y1_test = y1_test*2 - 1"
   ]
  },
  {
   "cell_type": "code",
   "execution_count": 8,
   "metadata": {},
   "outputs": [],
   "source": [
    "x1_train = add_bias(x1_train)\n",
    "x1_test = add_bias(x1_test)"
   ]
  },
  {
   "cell_type": "code",
   "execution_count": 9,
   "metadata": {},
   "outputs": [
    {
     "name": "stdout",
     "output_type": "stream",
     "text": [
      "40 training samples\n",
      "40 test samples\n"
     ]
    }
   ],
   "source": [
    "print (x1_train.shape[0], 'training samples')\n",
    "print (x1_test.shape[0], 'test samples')"
   ]
  },
  {
   "cell_type": "markdown",
   "metadata": {},
   "source": [
    "Define some basic functions for computing the loss and gradient of the model"
   ]
  },
  {
   "cell_type": "code",
   "execution_count": 10,
   "metadata": {},
   "outputs": [],
   "source": [
    "def sigmoid(x):\n",
    "    \"\"\"\n",
    "    Applies the sigmoid function on the given vector.\n",
    "    Input(s):\n",
    "    - x : numpy vector of values\n",
    "    \"\"\"\n",
    "    return 1/(1+np.exp(-x))"
   ]
  },
  {
   "cell_type": "code",
   "execution_count": 11,
   "metadata": {},
   "outputs": [],
   "source": [
    "def initialize_params(size=3073, seed=123):\n",
    "    \"\"\"\n",
    "    Initialize parameters W weights and b biases.\n",
    "    Input(s):\n",
    "    - size (int): size of the parameters\n",
    "    - seed (int): seed for the random number generator\n",
    "    \"\"\"\n",
    "    rng = np.random.RandomState(seed)\n",
    "    \n",
    "    return rng.normal(size=(size,))"
   ]
  },
  {
   "cell_type": "code",
   "execution_count": 12,
   "metadata": {},
   "outputs": [],
   "source": [
    "def log_loss(x_train, y_train, W):\n",
    "    \"\"\"\n",
    "    Computes the loss value of the logistic loss.\n",
    "    Input(s):\n",
    "    - x_train, y_train: training data and labels. x_train takes different forms depending on the features used and y_train\n",
    "                        is {-1,+1}.\n",
    "    - W: value of the parameters.                    \n",
    "    \"\"\"\n",
    "    z = y_train * np.dot(x_train, W)\n",
    "    h = sigmoid(z)\n",
    "    \n",
    "    return -np.mean(np.log(h))   "
   ]
  },
  {
   "cell_type": "code",
   "execution_count": 13,
   "metadata": {},
   "outputs": [],
   "source": [
    "def log_grad(x_train, y_train, W):\n",
    "    \"\"\"\n",
    "    Computes the gradient of the logistic loss function.\n",
    "    Input(s):\n",
    "    - x_train, y_train: training data and labels. x_train takes different forms depending on the features used and y_train\n",
    "                        is {-1,+1}.\n",
    "    - W: value of the parameters.                    \n",
    "    \"\"\"\n",
    "    z = y_train * np.dot(x_train, W)\n",
    "    h = sigmoid(z)\n",
    "    n = x_train.shape[0]\n",
    "    \n",
    "    return 1/n * np.dot(x_train.T,(y_train * (h-1)))    "
   ]
  },
  {
   "cell_type": "code",
   "execution_count": 14,
   "metadata": {},
   "outputs": [],
   "source": [
    "def next_batch(x_train, y_train, batch_size=2):\n",
    "    \"\"\"\n",
    "    Returns a batch of size batch_size for stochastic gradient descent.\n",
    "    - x_train, y_train: training data and labels. x_train takes different forms depending on the features used and y_train\n",
    "                        is {-1,+1}.\n",
    "    - batch_size (int): size of each batch.                    \n",
    "    \"\"\"\n",
    "    for i in np.arange(0, x_train.shape[0], batch_size):\n",
    "        yield (x_train[i:i+batch_size],y_train[i:i+batch_size])\n"
   ]
  },
  {
   "cell_type": "code",
   "execution_count": 15,
   "metadata": {},
   "outputs": [],
   "source": [
    "def log_classifier(x, learnt_W):\n",
    "    \"\"\"\n",
    "    Takes in the test set and learnt parameters and returns the accuracy of the classifier on the test set.\n",
    "    Inputs:\n",
    "    -\n",
    "    \"\"\"\n",
    "    return (sigmoid(np.dot(x, learnt_W)) >= .5) * 2 - 1"
   ]
  },
  {
   "cell_type": "code",
   "execution_count": 16,
   "metadata": {},
   "outputs": [],
   "source": [
    "def log_accuracy(x, y, learnt_W):\n",
    "    \"\"\"\n",
    "    Returns the accuracy of the model with parameters learnt_W.\n",
    "    Input(s):\n",
    "    - \n",
    "    \"\"\"\n",
    "    output = log_classifier(x, learnt_W)\n",
    "    return np.sum(np.absolute(y - output) == 0)/y.shape[0]"
   ]
  },
  {
   "cell_type": "code",
   "execution_count": 17,
   "metadata": {},
   "outputs": [],
   "source": [
    "def log_train(x_train, y_train, x_test, y_test, W, alpha=0.01, batch_size = 4, epoch = 100):\n",
    "    \"\"\"\n",
    "    Trains the model with given learning rate alpha, batch_size, epoch and initialized parameters W.\n",
    "    \"\"\"\n",
    "    loss_history = []\n",
    "    train_acc_history = []\n",
    "    test_acc_history = []\n",
    "    for e in np.arange(epoch):\n",
    "        epoch_loss = []\n",
    "        for (batchx, batchy) in next_batch(x_train, y_train):\n",
    "            loss = log_loss(batchx, batchy, W)\n",
    "            grad = log_grad(batchx, batchy, W)\n",
    "            epoch_loss.append(loss)\n",
    "            W += -alpha * grad\n",
    "        loss_history.append(np.average(epoch_loss))\n",
    "        train_acc = log_accuracy(x_train, y_train, W)\n",
    "        test_acc = log_accuracy(x_test, y_test, W)\n",
    "        train_acc_history.append(train_acc)\n",
    "        test_acc_history.append(test_acc)\n",
    "    \n",
    "    return loss_history, train_acc_history, test_acc_history, W    "
   ]
  },
  {
   "cell_type": "code",
   "execution_count": 111,
   "metadata": {},
   "outputs": [],
   "source": [
    "def display_plot(loss_history, train_acc_history, test_acc_history):\n",
    "    \"\"\"\n",
    "    Plots out the loss function value for the different epochs and the accuracy of the test set for the \n",
    "    parameters learnt in the different epochs.\n",
    "    Input(s):\n",
    "    - loss_history: list containing the change in the loss value over the epochs\n",
    "    - acc_history: list containing the accuracy value of the test set over the epochs\n",
    "    \"\"\"\n",
    "    f, (ax1, ax2) = plt.subplots(1, 2,figsize=(15,5))\n",
    "    ax1.plot(loss_history, color='r')\n",
    "    # ax1.plot(model_log.history['val_acc'])\n",
    "    ax1.set_title('Loss (Lower Better)')\n",
    "    ax1.set(xlabel='Epoch', ylabel='Loss')\n",
    "    ax1.legend(['train', 'validation'], loc='upper right')\n",
    "\n",
    "    ax2.plot(train_acc_history)\n",
    "    ax2.plot(test_acc_history)\n",
    "    ax2.set_title('Accuracy (Higher Better)')\n",
    "    ax2.set(xlabel='Epoch', ylabel='Accuracy')\n",
    "    ax2.legend(['train', 'test'], loc='center right')"
   ]
  },
  {
   "cell_type": "markdown",
   "metadata": {},
   "source": [
    "Here `W1` refers to the initialized parameters that will be used to learn the model from using the raw pixel values as the training data."
   ]
  },
  {
   "cell_type": "code",
   "execution_count": 19,
   "metadata": {},
   "outputs": [],
   "source": [
    "W1 = initialize_params(seed=1)\n",
    "loss_history1, train_acc_history1, test_acc_history1, learnt_W1 = log_train(x1_train, y1_train, x1_test, y1_test, W1, epoch=100)"
   ]
  },
  {
   "cell_type": "code",
   "execution_count": 20,
   "metadata": {},
   "outputs": [
    {
     "data": {
      "image/png": "[encoded data removed]",
      "text/plain": [
       "<Figure size 1080x360 with 2 Axes>"
      ]
     },
     "metadata": {
      "needs_background": "light"
     },
     "output_type": "display_data"
    }
   ],
   "source": [
    "display_plot(loss_history1, train_acc_history1, test_acc_history1)"
   ]
  },
  {
   "cell_type": "markdown",
   "metadata": {},
   "source": [
    "3D histogram"
   ]
  },
  {
   "cell_type": "code",
   "execution_count": 21,
   "metadata": {},
   "outputs": [],
   "source": [
    "x2_train, y2_train = load_data([train_cat, train_bird], feature = None)\n",
    "x2_test, y2_test = load_data([test_cat, test_bird], feature=None)"
   ]
  },
  {
   "cell_type": "code",
   "execution_count": 22,
   "metadata": {},
   "outputs": [
    {
     "name": "stdout",
     "output_type": "stream",
     "text": [
      "(40, 512)\n"
     ]
    }
   ],
   "source": [
    "print (x2_train.shape)"
   ]
  },
  {
   "cell_type": "code",
   "execution_count": 25,
   "metadata": {},
   "outputs": [],
   "source": [
    "# xh_train = xh_train/1024\n",
    "# xh_test = xh_test/1024\n",
    "y2_train = y2_train*2 - 1\n",
    "y2_test = y2_test*2 - 1"
   ]
  },
  {
   "cell_type": "code",
   "execution_count": 26,
   "metadata": {},
   "outputs": [],
   "source": [
    "x2_train = add_bias(x2_train)\n",
    "x2_test = add_bias(x2_test)"
   ]
  },
  {
   "cell_type": "code",
   "execution_count": 27,
   "metadata": {},
   "outputs": [
    {
     "name": "stdout",
     "output_type": "stream",
     "text": [
      "(40, 514)\n"
     ]
    }
   ],
   "source": [
    "print (x2_train.shape)"
   ]
  },
  {
   "cell_type": "code",
   "execution_count": 28,
   "metadata": {},
   "outputs": [],
   "source": [
    "W2 = initialize_params(size = x2_train.shape[1], seed=1)\n",
    "loss_history2, train_acc_history2, test_acc_history2, learnt_W2 = log_train(x2_train, y2_train, x2_test, y2_test, W2, epoch=100)"
   ]
  },
  {
   "cell_type": "code",
   "execution_count": 29,
   "metadata": {},
   "outputs": [
    {
     "data": {
      "image/png": "[encoded data removed]",
      "text/plain": [
       "<Figure size 1080x360 with 2 Axes>"
      ]
     },
     "metadata": {
      "needs_background": "light"
     },
     "output_type": "display_data"
    }
   ],
   "source": [
    "display_plot(loss_history2, train_acc_history2, test_acc_history2)"
   ]
  },
  {
   "cell_type": "markdown",
   "metadata": {},
   "source": [
    "**Q3.** Hinge loss with stochastic gradient descent to perform binary classification"
   ]
  },
  {
   "cell_type": "markdown",
   "metadata": {},
   "source": [
    "As in earlier, we will use `1` and `2` labels to reference using the raw pixel values and the features from the histogram respectively."
   ]
  },
  {
   "cell_type": "code",
   "execution_count": 30,
   "metadata": {},
   "outputs": [],
   "source": [
    "def hinge_loss(x_train, y_train, W ):\n",
    "    \"\"\"\n",
    "    \n",
    "    \"\"\"\n",
    "    z = y_train * np.dot(x_train, W)\n",
    "    return np.average(np.maximum(1-z,0))"
   ]
  },
  {
   "cell_type": "code",
   "execution_count": 106,
   "metadata": {},
   "outputs": [],
   "source": [
    "def hinge_grad(x_train, y_train, W):\n",
    "    \"\"\"\n",
    "    \n",
    "    \"\"\"\n",
    "    z = y_train * np.dot(x_train, W)\n",
    "    grad = -(y_train * x_train.T).T\n",
    "    grad[z>1]=0\n",
    "    return np.average(grad, axis=0)"
   ]
  },
  {
   "cell_type": "markdown",
   "metadata": {},
   "source": [
    "Here we shall use `theta` to represent the parameters."
   ]
  },
  {
   "cell_type": "code",
   "execution_count": 107,
   "metadata": {},
   "outputs": [],
   "source": [
    "def hinge_classifier(x, learnt_theta):\n",
    "    \"\"\"\n",
    "    \n",
    "    \"\"\"\n",
    "    return np.sign(np.dot(x,learnt_theta))"
   ]
  },
  {
   "cell_type": "code",
   "execution_count": 108,
   "metadata": {},
   "outputs": [],
   "source": [
    "def hinge_accuracy(x, y, learnt_theta):\n",
    "    \"\"\"\n",
    "    \n",
    "    \"\"\"\n",
    "    output = hinge_classifier(x, learnt_theta)\n",
    "    return np.sum(np.absolute(y - output) == 0)/y.shape[0]   "
   ]
  },
  {
   "cell_type": "code",
   "execution_count": 113,
   "metadata": {},
   "outputs": [],
   "source": [
    "def hinge_train(x_train, y_train, x_test, y_test, theta, alpha=0.01, batch_size = 4, epoch = 100):\n",
    "    \"\"\"\n",
    "    \n",
    "    \"\"\"\n",
    "    loss_history = []\n",
    "    train_acc_history = []\n",
    "    test_acc_history = []\n",
    "    for e in np.arange(epoch):\n",
    "        epoch_loss = []\n",
    "        for (batchx, batchy) in next_batch(x_train, y_train):\n",
    "            loss = hinge_loss(batchx, batchy, theta)\n",
    "            grad = hinge_grad(batchx, batchy, theta)\n",
    "            epoch_loss.append(loss)\n",
    "            theta += -alpha * grad\n",
    "        loss_history.append(np.average(epoch_loss))\n",
    "        train_acc = log_accuracy(x_train, y_train, theta)\n",
    "        test_acc = log_accuracy(x_test, y_test, theta)\n",
    "        train_acc_history.append(train_acc)\n",
    "        test_acc_history.append(test_acc)\n",
    "    \n",
    "    return loss_history, train_acc_history, test_acc_history, theta"
   ]
  },
  {
   "cell_type": "code",
   "execution_count": 114,
   "metadata": {},
   "outputs": [],
   "source": [
    "theta1 = initialize_params(size = x1_train.shape[1])\n",
    "loss_history1, train_acc_history1, test_acc_history1, learnt_theta1 = hinge_train(x1_train, y1_train, x1_test, y1_test, theta1, epoch = 100)"
   ]
  },
  {
   "cell_type": "code",
   "execution_count": 115,
   "metadata": {},
   "outputs": [
    {
     "data": {
      "image/png": "[encoded data removed]",
      "text/plain": [
       "<Figure size 1080x360 with 2 Axes>"
      ]
     },
     "metadata": {
      "needs_background": "light"
     },
     "output_type": "display_data"
    }
   ],
   "source": [
    "display_plot(loss_history1, train_acc_history1, test_acc_history1)"
   ]
  },
  {
   "cell_type": "code",
   "execution_count": null,
   "metadata": {},
   "outputs": [],
   "source": []
  },
  {
   "cell_type": "markdown",
   "metadata": {},
   "source": [
    "Using the features from the histogram"
   ]
  },
  {
   "cell_type": "code",
   "execution_count": 116,
   "metadata": {},
   "outputs": [],
   "source": [
    "theta2 = initialize_params(size = x2_train.shape[1])\n",
    "loss_history2, train_acc_history2, test_acc_history2, learnt_theta2 = hinge_train(x2_train, y2_train, x2_test, y2_test, theta2, epoch = 100)"
   ]
  },
  {
   "cell_type": "code",
   "execution_count": 118,
   "metadata": {},
   "outputs": [
    {
     "data": {
      "image/png": "[encoded data removed]",
      "text/plain": [
       "<Figure size 1080x360 with 2 Axes>"
      ]
     },
     "metadata": {
      "needs_background": "light"
     },
     "output_type": "display_data"
    }
   ],
   "source": [
    "display_plot(loss_history2, train_acc_history2, test_acc_history2)"
   ]
  },
  {
   "cell_type": "code",
   "execution_count": null,
   "metadata": {},
   "outputs": [],
   "source": []
  },
  {
   "cell_type": "code",
   "execution_count": null,
   "metadata": {},
   "outputs": [],
   "source": []
  },
  {
   "cell_type": "code",
   "execution_count": null,
   "metadata": {},
   "outputs": [],
   "source": []
  },
  {
   "cell_type": "code",
   "execution_count": null,
   "metadata": {},
   "outputs": [],
   "source": []
  }
 ],
 "metadata": {
  "kernelspec": {
   "display_name": "Python 3",
   "language": "python",
   "name": "python3"
  },
  "language_info": {
   "codemirror_mode": {
    "name": "ipython",
    "version": 3
   },
   "file_extension": ".py",
   "mimetype": "text/x-python",
   "name": "python",
   "nbconvert_exporter": "python",
   "pygments_lexer": "ipython3",
   "version": "3.5.6"
  }
 },
 "nbformat": 4,
 "nbformat_minor": 2
}
