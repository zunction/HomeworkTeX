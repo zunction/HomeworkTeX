{
 "cells": [
  {
   "cell_type": "markdown",
   "metadata": {},
   "source": [
    "#### **Q5.** Using one-vs-all classifier to do multi-class classification"
   ]
  },
  {
   "cell_type": "markdown",
   "metadata": {},
   "source": [
    "Another way to perform multi-class classification is by using the one-vs-all method. Given a training set with labels, we know the number of possible classes. Suppose there are `n` classes, thus for each class we have to modify the labels such that it only differentiates samples *from a particular class* or *not from the particular class*. Thus if there are `n` classes, we need to generate `n` new binary labels from the initial multi-class label.\n",
    "\n",
    "With the new binary labels that is used to train the binary classification of a class from the other classes, we can learn the parameters for such binary classification. In my experiments here, the logistic loss was used to do the training of the `4` binary classification models. Thus we will obtain a total of `n` models. With the `n` learnt models we can then evaluate the probability by using the sigmiod function. The class of the binary classifier with the highest probability will then the predicted class."
   ]
  },
  {
   "cell_type": "code",
   "execution_count": 1,
   "metadata": {},
   "outputs": [],
   "source": [
    "import cv2\n",
    "import os\n",
    "import numpy as np\n",
    "import seaborn as sns\n",
    "import matplotlib.pyplot as plt\n",
    "sns.set()\n",
    "\n",
    "from utils import *"
   ]
  },
  {
   "cell_type": "code",
   "execution_count": 2,
   "metadata": {},
   "outputs": [],
   "source": [
    "folders = ['bird', 'cat','airplane','automobile']\n",
    "train_path_list = []\n",
    "test_path_list = []\n",
    "train_dir = 'C:/Users/zlai/Documents/repo/HomeworkTex/ML/hw/homework 1/data/train/'\n",
    "test_dir = 'C:/Users/zlai/Documents/repo/HomeworkTex/ML/hw/homework 1/data/test/'\n",
    "for folder in folders:\n",
    "    l_train = train_dir + folder \n",
    "    l_test = test_dir + folder\n",
    "    train_path_list.append(l_train)\n",
    "    test_path_list.append(l_test)"
   ]
  },
  {
   "cell_type": "code",
   "execution_count": 3,
   "metadata": {},
   "outputs": [],
   "source": [
    "# loading raw pixel features\n",
    "x1_train, y1_train = load_data(train_path_list, feature='raw')\n",
    "x1_test, y1_test = load_data(test_path_list, feature='raw')\n",
    "\n",
    "# loading histogram features\n",
    "x2_train, y2_train = load_data(train_path_list, feature = None)\n",
    "x2_test, y2_test = load_data(test_path_list, feature = None)"
   ]
  },
  {
   "cell_type": "code",
   "execution_count": 4,
   "metadata": {},
   "outputs": [],
   "source": [
    "# normalise the raw pixel features, we do not normalize the histogram \n",
    "# features as from Q2,3 normalization gives lower accuracy\n",
    "x1_train = x1_train/255\n",
    "x1_test = x1_test/255"
   ]
  },
  {
   "cell_type": "code",
   "execution_count": 5,
   "metadata": {},
   "outputs": [],
   "source": [
    "# adding of biases\n",
    "x1_train = add_bias(x1_train)\n",
    "x1_test = add_bias(x1_test)\n",
    "x2_train = add_bias(x2_train)\n",
    "x2_test = add_bias(x2_test)"
   ]
  },
  {
   "cell_type": "code",
   "execution_count": 6,
   "metadata": {},
   "outputs": [
    {
     "name": "stdout",
     "output_type": "stream",
     "text": [
      "(80, 3073) raw pixel feature dimension\n",
      "(80, 513) histogram feature dimension\n"
     ]
    }
   ],
   "source": [
    "print (x1_train.shape, 'raw pixel feature dimension')\n",
    "print (x2_train.shape, 'histogram feature dimension')"
   ]
  },
  {
   "cell_type": "markdown",
   "metadata": {},
   "source": [
    "To do one-vs-all classification, we need to relabel a particular class as 1 and the rest as -1."
   ]
  },
  {
   "cell_type": "code",
   "execution_count": 7,
   "metadata": {},
   "outputs": [],
   "source": [
    "def relabel(y, c):\n",
    "    \"\"\"\n",
    "    Relabel labels y from multiple classes to binary classes.\n",
    "    Input(s):\n",
    "    - y: labels to be relabeled\n",
    "    - c: the class to be labeled as 1\n",
    "    \"\"\"\n",
    "    new_label = np.ones(y.shape)\n",
    "    ind = y != c\n",
    "    new_label[ind] = -1\n",
    "    return new_label"
   ]
  },
  {
   "cell_type": "markdown",
   "metadata": {},
   "source": [
    "Depending on the number of classes we know from the labels, we have to create a new label for each one-vs-all classification. As we have 4 distinct classes in our image dataset, we need to generate 4 new binary labels, one for each one-vs-all classification for each class."
   ]
  },
  {
   "cell_type": "code",
   "execution_count": 8,
   "metadata": {},
   "outputs": [],
   "source": [
    "def relabel_multiclass(y):\n",
    "    \"\"\"\n",
    "    Uses relabel to relabel the labels of data with multiple classes \n",
    "    to multiple binary labels. Returns a list of relabeled labels, \n",
    "    with each item in the list a binary label (-1/+1) for each class.\n",
    "    Input(s):\n",
    "    - y: labels to be relabeled\n",
    "    \"\"\"\n",
    "    y_list = []\n",
    "    c = len(np.unique(y))\n",
    "    for i in np.arange(c):\n",
    "        y_temp = y.copy()\n",
    "        y_temp = relabel(y_temp, c=i)\n",
    "        y_list.append(y_temp)\n",
    "    \n",
    "    return y_list"
   ]
  },
  {
   "cell_type": "code",
   "execution_count": 9,
   "metadata": {},
   "outputs": [],
   "source": [
    "# relabeling of the labels. Note that we only need to do it for once as the labels do not change regardless of the different \n",
    "# features used to do the classification\n",
    "y1_train_list = relabel_multiclass(y1_train)\n",
    "y1_test_list = relabel_multiclass(y1_test)"
   ]
  },
  {
   "cell_type": "markdown",
   "metadata": {},
   "source": [
    "The logistic loss algorithm is used here to train the parameter"
   ]
  },
  {
   "cell_type": "code",
   "execution_count": 10,
   "metadata": {},
   "outputs": [],
   "source": [
    "def onevsall_train(x_train, y_train, x_test, y_test, W, alpha=0.01, batch_size = 4, epoch = 100):\n",
    "    \"\"\"\n",
    "    Trains the parameters of each one-vs-all model. Returns a list \n",
    "    of learnt_W_history, with each item of the list belonging to a \n",
    "    certain model. Each item in the list contains the learnt_W_history \n",
    "    that spans over the chosen number of epochs for a certain model.\n",
    "    Input(s):\n",
    "    - x_train: training images\n",
    "    - y_train: labels for the training images\n",
    "    - x_test: testing images\n",
    "    - y_test: labels for the testing images\n",
    "    - W: parameters of the model\n",
    "    - alpha: learning rate\n",
    "    - batch_size: size of each batch using stochastic gradient descent\n",
    "    - epoch: number of times the whole dataset is used to train the model\n",
    "    \"\"\"\n",
    "\n",
    "    learnt_W_history_list = []\n",
    "    y_train_list = relabel_multiclass(y_train)\n",
    "    y_test_list = relabel_multiclass(y_test)\n",
    "    \n",
    "    for i in np.arange(len(y_train_list)):\n",
    "        W_temp = W.copy()\n",
    "        loss_history, train_acc_history, test_acc_history, learnt_W_history = log_train(x_train, y_train_list[i], \n",
    "                                                                                        x_test, y_test_list[i], \n",
    "                                                                                        W_temp, \n",
    "                                                                                        epoch=epoch, \n",
    "                                                                                        batch_size=batch_size)\n",
    "        learnt_W_history_list.append(learnt_W_history)\n",
    "    \n",
    "    return learnt_W_history_list"
   ]
  },
  {
   "cell_type": "code",
   "execution_count": 11,
   "metadata": {},
   "outputs": [],
   "source": [
    "def onevsall_predict(x, learnt_W_history_list):\n",
    "    \"\"\"\n",
    "    Input(s):\n",
    "    - x: data to be predicted\n",
    "    - learnt_W_history_list: history of learnt \n",
    "    parameters at different epoch\n",
    "    \"\"\"\n",
    "    predict_epoch = []\n",
    "    for i in range(len(learnt_W_history_list[0])): # loop over epoch\n",
    "\n",
    "        prob_list = [] # stores list of prob for each model for a given epoch\n",
    "        for j in range(len(learnt_W_history_list)): # loop over models\n",
    "            p = sigmoid(np.dot(x,learnt_W_history_list[j][i])) # get probabilites for the models at epoch i\n",
    "            prob_list.append(p)\n",
    "\n",
    "        prob = np.concatenate([i[np.newaxis] for i in prob_list])  \n",
    "        predict = np.argmax(prob, axis = 0) # predicts the class for epoch i\n",
    "        predict_epoch.append(predict) # stores the prediction from the model at epoch i at predict_epoch\n",
    "    return predict_epoch"
   ]
  },
  {
   "cell_type": "code",
   "execution_count": 12,
   "metadata": {},
   "outputs": [],
   "source": [
    "def onevsall_accuracy(y, predict_epoch):\n",
    "    \"\"\"\n",
    "    Input(s):\n",
    "    - y: true label of the data\n",
    "    \"\"\"\n",
    "    acc_list = []\n",
    "    for i in range(len(predict_epoch)):\n",
    "        acc = np.average(predict_epoch[i] == y)\n",
    "        acc_list.append(acc)\n",
    "    return acc_list        "
   ]
  },
  {
   "cell_type": "code",
   "execution_count": 13,
   "metadata": {},
   "outputs": [
    {
     "name": "stderr",
     "output_type": "stream",
     "text": [
      "C:\\Users\\zlai\\Documents\\repo\\HomeworkTeX\\ML\\hw\\utils.py:126: RuntimeWarning: divide by zero encountered in log\n",
      "  return -np.mean(np.log(h))\n"
     ]
    }
   ],
   "source": [
    "W = initialize_params(size=x1_train.shape[1], seed=123)\n",
    "learnt_W_history_list = onevsall_train(x1_train, y1_train, x1_test, y1_test, W, epoch = 100, batch_size=4)\n",
    "\n",
    "theta = initialize_params(size=x2_train.shape[1],seed=123)\n",
    "learnt_theta_history_list = onevsall_train(x2_train, y1_train, x2_test, y1_test, theta, epoch= 100, batch_size=4)"
   ]
  },
  {
   "cell_type": "code",
   "execution_count": 14,
   "metadata": {},
   "outputs": [
    {
     "data": {
      "text/plain": [
       "<matplotlib.legend.Legend at 0x178dafb3fd0>"
      ]
     },
     "execution_count": 14,
     "metadata": {},
     "output_type": "execute_result"
    },
    {
     "data": {
      "image/png": "[encoded data removed]",
      "text/plain": [
       "<Figure size 1080x360 with 2 Axes>"
      ]
     },
     "metadata": {
      "needs_background": "light"
     },
     "output_type": "display_data"
    }
   ],
   "source": [
    "predict_epoch_train1 = onevsall_predict(x1_train, learnt_W_history_list)\n",
    "acc_list_train1 = onevsall_accuracy(y1_train, predict_epoch_train1)\n",
    "\n",
    "predict_epoch_train2 = onevsall_predict(x2_train, learnt_theta_history_list)\n",
    "acc_list_train2 = onevsall_accuracy(y1_train, predict_epoch_train2)\n",
    "\n",
    "predict_epoch_test1 = onevsall_predict(x1_test, learnt_W_history_list)\n",
    "acc_list_test1 = onevsall_accuracy(y1_test, predict_epoch_test1)\n",
    "\n",
    "predict_epoch_test2 = onevsall_predict(x2_test, learnt_theta_history_list)\n",
    "acc_list_test2 = onevsall_accuracy(y1_test, predict_epoch_test2)\n",
    "\n",
    "\n",
    "\n",
    "f, (ax1, ax2) = plt.subplots(1, 2,figsize=(15,5))\n",
    "ax1.plot(acc_list_train1, color='r')\n",
    "ax1.plot(acc_list_test1, color='b')\n",
    "ax1.set_title('Raw Pixel Accuracy (Higher Better)')\n",
    "ax1.set(xlabel='Epoch', ylabel='Accuracy')\n",
    "ax1.legend(['Train', 'Test'], loc='center right')\n",
    "\n",
    "ax2.plot(acc_list_train2,color='r')\n",
    "ax2.plot(acc_list_test2,color='b')\n",
    "ax2.set_title('Histogram Accuracy (Higher Better)')\n",
    "ax2.set(xlabel='Epoch', ylabel='Accuracy')\n",
    "ax2.legend(['Train', 'Test'], loc='center right')    \n",
    "\n"
   ]
  },
  {
   "cell_type": "markdown",
   "metadata": {},
   "source": [
    "From the plots above, we see that using the raw pixel value and histogram as features gives a test accuracy of approximately 45% and high 20% respectively which is not as good as the knn method used in question 4. "
   ]
  }
 ],
 "metadata": {
  "kernelspec": {
   "display_name": "Python 3",
   "language": "python",
   "name": "python3"
  },
  "language_info": {
   "codemirror_mode": {
    "name": "ipython",
    "version": 3
   },
   "file_extension": ".py",
   "mimetype": "text/x-python",
   "name": "python",
   "nbconvert_exporter": "python",
   "pygments_lexer": "ipython3",
   "version": "3.5.6"
  }
 },
 "nbformat": 4,
 "nbformat_minor": 2
}
