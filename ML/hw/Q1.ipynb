{
 "cells": [
  {
   "cell_type": "code",
   "execution_count": 1,
   "metadata": {},
   "outputs": [
    {
     "name": "stderr",
     "output_type": "stream",
     "text": [
      "Using TensorFlow backend.\n"
     ]
    }
   ],
   "source": [
    "import cv2\n",
    "import os\n",
    "import numpy as np\n",
    "import seaborn as sns\n",
    "import matplotlib.pyplot as plt\n",
    "sns.set()\n",
    "\n",
    "import keras\n",
    "from keras import callbacks\n",
    "from keras.datasets import mnist\n",
    "from keras.models import Sequential\n",
    "from keras.layers import *\n",
    "from keras.optimizers import RMSprop, SGD\n",
    "\n",
    "from matplotlib.colors import ListedColormap\n",
    "%matplotlib inline"
   ]
  },
  {
   "cell_type": "markdown",
   "metadata": {},
   "source": [
    "#### Change to the directory containing the images"
   ]
  },
  {
   "cell_type": "code",
   "execution_count": 2,
   "metadata": {},
   "outputs": [],
   "source": [
    "path = \"C:/Users/zlai/Documents/repo/HomeworkTex/ML/hw/homework 1/data/train/airplane\"\n",
    "os.chdir(path)"
   ]
  },
  {
   "cell_type": "markdown",
   "metadata": {},
   "source": [
    "#### **Q1.** Formulation of the classification problem\n",
    "\n",
    "The classification problem here is to classify the images in the different folders into one of the classes from the set $\\{\\mathsf{airplane}, \\mathsf{automobile}, \\mathsf{bird}, \\mathsf{cat}\\}$.  \n",
    "\n",
    "The input image can be converted into a *feature vector* with one of the following examples listed below:"
   ]
  },
  {
   "cell_type": "markdown",
   "metadata": {},
   "source": [
    "#### 1. Using the raw pixel values"
   ]
  },
  {
   "cell_type": "markdown",
   "metadata": {},
   "source": [
    "For each `.jpg` image, we can extract the raw pixel values using `cv2.imread` which returns an array representing the raw RGB intensities of the image. Using `.flatten()` we convert the raw image from a multi-dimensional array into a single array of values with dimensions `(3072,)`, which can be used as the input for the classification problem."
   ]
  },
  {
   "cell_type": "code",
   "execution_count": 3,
   "metadata": {},
   "outputs": [
    {
     "name": "stdout",
     "output_type": "stream",
     "text": [
      "(32, 32, 3)\n"
     ]
    },
    {
     "data": {
      "image/png": "[encoded data removed]",
      "text/plain": [
       "<Figure size 432x288 with 1 Axes>"
      ]
     },
     "metadata": {
      "needs_background": "light"
     },
     "output_type": "display_data"
    }
   ],
   "source": [
    "raw_img = cv2.imread('1.jpg')\n",
    "print (raw_img.shape)\n",
    "plt.imshow(raw_img)\n",
    "plt.grid(False)"
   ]
  },
  {
   "cell_type": "code",
   "execution_count": 4,
   "metadata": {},
   "outputs": [],
   "source": [
    "def convert2pixel_value(filename):\n",
    "    \"\"\"\n",
    "    Converts the filename into a flatten numpy array of the raw pixel values.\n",
    "    Input:\n",
    "    - filename (string): name of the file to be processed.\n",
    "    \"\"\"\n",
    "    raw_img = cv2.imread(filename)\n",
    "    \n",
    "    return raw_img.flatten()"
   ]
  },
  {
   "cell_type": "code",
   "execution_count": 5,
   "metadata": {},
   "outputs": [
    {
     "name": "stdout",
     "output_type": "stream",
     "text": [
      "(3072,)\n"
     ]
    }
   ],
   "source": [
    "out = convert2pixel_value('1.jpg')\n",
    "print (out.shape)"
   ]
  },
  {
   "cell_type": "markdown",
   "metadata": {},
   "source": [
    "#### 2. Using the mean and standard deviation of each color channel"
   ]
  },
  {
   "cell_type": "markdown",
   "metadata": {},
   "source": [
    "From each raw image, we can extract out the color channels (RGB), and find the mean and standard deviation value of each color. This array can be used as the feature vector for the classification problem."
   ]
  },
  {
   "cell_type": "code",
   "execution_count": 6,
   "metadata": {},
   "outputs": [],
   "source": [
    "def convert2color_mean_std(filename):\n",
    "    \"\"\"\n",
    "    Converts the filename into the mean and standard deviation of the different color channels (RGB).\n",
    "    Input:\n",
    "    - filename (string): name of the file to be processed.\n",
    "    \"\"\"\n",
    "    raw_img = cv2.imread(filename)\n",
    "        \n",
    "    return cv2.meanStdDev(raw_img)"
   ]
  },
  {
   "cell_type": "code",
   "execution_count": 7,
   "metadata": {},
   "outputs": [],
   "source": [
    "(mean,std) = convert2color_mean_std('1.jpg')"
   ]
  },
  {
   "cell_type": "code",
   "execution_count": 8,
   "metadata": {},
   "outputs": [
    {
     "name": "stdout",
     "output_type": "stream",
     "text": [
      "[[148.86035156]\n",
      " [148.71875   ]\n",
      " [148.17578125]]\n",
      "[[90.06941242]\n",
      " [92.22082554]\n",
      " [91.80958747]]\n"
     ]
    }
   ],
   "source": [
    "print (mean)\n",
    "print (std)"
   ]
  },
  {
   "cell_type": "markdown",
   "metadata": {},
   "source": [
    "#### 3. Using a color histogram"
   ]
  },
  {
   "cell_type": "markdown",
   "metadata": {},
   "source": [
    "Given a raw image, we can also extract the color histogram of the image. Depending on the number of bins chosen for the histogram, it will decide the dimension of this feature vector. For example, if we choose 8 bins for each histogram, this means that the values for each color channel will be classified into the following ranges: 0-31, 32-63, 64-95, 96-127, 128-159, 160-191, 192-223, 224-256."
   ]
  },
  {
   "cell_type": "code",
   "execution_count": 9,
   "metadata": {},
   "outputs": [],
   "source": [
    "def convert2color_hist(filename, bin):\n",
    "    \"\"\"\n",
    "    Converts the filename into a histogram with bin bins for each of the different color channels (RGB). The concatenated \n",
    "    vector of the different color histogram is returned.\n",
    "    Input:\n",
    "    - filename (string): name of the file to be processed.\n",
    "    - bin: number of bins for the histogram of each color channel.\n",
    "    \"\"\"\n",
    "    raw_img = cv2.imread(filename)\n",
    "    hist = []\n",
    "    color = ('b','g','r')\n",
    "    for channel,col in enumerate(color):\n",
    "        histr = cv2.calcHist([raw_img],[channel],None,[bin],[0,256])\n",
    "        hist.append(histr)\n",
    "    return np.concatenate(hist)"
   ]
  },
  {
   "cell_type": "code",
   "execution_count": 10,
   "metadata": {},
   "outputs": [
    {
     "name": "stdout",
     "output_type": "stream",
     "text": [
      "(24, 1)\n"
     ]
    }
   ],
   "source": [
    "output = convert2color_hist('1.jpg',bin=8)\n",
    "print (output.shape)"
   ]
  },
  {
   "cell_type": "markdown",
   "metadata": {},
   "source": [
    "We can also use a 3D histogram as the feature vector. Depending on the choice of the number of bins, `b`, we will get a multi-dimensional array of shape `(b,b,b)`. This describes the number of pixels that have blue, green and red in the different intervals corresponding to the number of bins selected. To use it as a feature vector, we simply flatten it to get a vector of dimension `b**3`. "
   ]
  },
  {
   "cell_type": "code",
   "execution_count": 11,
   "metadata": {},
   "outputs": [],
   "source": [
    "def convert2color_3Dhist(filename, bin = 8):\n",
    "    \"\"\"\n",
    "    Converts the filename into a 3D histogram. The 3D histogram values are then flattened to return a single dimension array.\n",
    "    Input:\n",
    "    - filename (string): name of the file to be processed.\n",
    "    - bin: number of bins for the histogram of each color channel.\n",
    "    \"\"\"\n",
    "    raw_img = cv2.imread(filename)\n",
    "    histr = cv2.calcHist([raw_img],[0,1,2],None,[bin]*3,[0,256]*3)\n",
    "        \n",
    "    return histr.flatten()"
   ]
  },
  {
   "cell_type": "code",
   "execution_count": 12,
   "metadata": {},
   "outputs": [
    {
     "name": "stdout",
     "output_type": "stream",
     "text": [
      "(512,)\n"
     ]
    }
   ],
   "source": [
    "output = convert2color_3Dhist('1.jpg')\n",
    "print (output.shape)"
   ]
  }
 ],
 "metadata": {
  "kernelspec": {
   "display_name": "Python 3",
   "language": "python",
   "name": "python3"
  },
  "language_info": {
   "codemirror_mode": {
    "name": "ipython",
    "version": 3
   },
   "file_extension": ".py",
   "mimetype": "text/x-python",
   "name": "python",
   "nbconvert_exporter": "python",
   "pygments_lexer": "ipython3",
   "version": "3.5.6"
  }
 },
 "nbformat": 4,
 "nbformat_minor": 2
}
