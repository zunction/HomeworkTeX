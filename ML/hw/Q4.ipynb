{
 "cells": [
  {
   "cell_type": "markdown",
   "metadata": {},
   "source": [
    "#### **Q4.** kNN classifier for multi-class classification problem"
   ]
  },
  {
   "cell_type": "code",
   "execution_count": 1,
   "metadata": {},
   "outputs": [],
   "source": [
    "import cv2\n",
    "import os\n",
    "import numpy as np\n",
    "import seaborn as sns\n",
    "import matplotlib.pyplot as plt\n",
    "sns.set()\n",
    "\n",
    "from utils import *\n"
   ]
  },
  {
   "cell_type": "code",
   "execution_count": 2,
   "metadata": {},
   "outputs": [],
   "source": [
    "folders = ['bird', 'cat','airplane','automobile']\n",
    "train_path_list = []\n",
    "test_path_list = []\n",
    "train_dir = 'C:/Users/zlai/Documents/repo/HomeworkTex/ML/hw/homework 1/data/train/'\n",
    "test_dir = 'C:/Users/zlai/Documents/repo/HomeworkTex/ML/hw/homework 1/data/test/'\n",
    "for folder in folders:\n",
    "    l_train = train_dir + folder \n",
    "    l_test = test_dir + folder\n",
    "    train_path_list.append(l_train)\n",
    "    test_path_list.append(l_test)"
   ]
  },
  {
   "cell_type": "code",
   "execution_count": 3,
   "metadata": {},
   "outputs": [],
   "source": [
    "x1_train, y1_train = load_data(train_path_list, feature='raw')\n",
    "x1_test, y1_test = load_data(test_path_list, feature='raw')\n",
    "\n",
    "x2_train, y2_train = load_data(train_path_list, feature=None)\n",
    "x2_test, y2_test = load_data(test_path_list, feature=None)"
   ]
  },
  {
   "cell_type": "code",
   "execution_count": 4,
   "metadata": {},
   "outputs": [],
   "source": [
    "x1_train = x1_train/255\n",
    "x1_test = x1_test/255"
   ]
  },
  {
   "cell_type": "code",
   "execution_count": 5,
   "metadata": {},
   "outputs": [
    {
     "name": "stdout",
     "output_type": "stream",
     "text": [
      "(80, 3072)\n",
      "(80, 512)\n"
     ]
    }
   ],
   "source": [
    "print (x1_train.shape)\n",
    "print (x2_train.shape)"
   ]
  },
  {
   "cell_type": "code",
   "execution_count": 6,
   "metadata": {},
   "outputs": [],
   "source": [
    "def euclid_dist(x1, x2):\n",
    "    \"\"\"\n",
    "    Euclidean distance between two numpy arrays.\n",
    "    \"\"\"\n",
    "    return np.linalg.norm(x1 - x2)"
   ]
  },
  {
   "cell_type": "code",
   "execution_count": 7,
   "metadata": {},
   "outputs": [],
   "source": [
    "def get_neighbors(x_train, y_train, x, k):\n",
    "    \"\"\"\n",
    "    Returns the k nearest neighbors.\n",
    "    Input(s):\n",
    "    - x_train, y_train: the training samples and its labels\n",
    "    - x: the data point whose neighbors we are interested in\n",
    "    - k: number of neighbors to return   \n",
    "    \"\"\"\n",
    "    distances = []\n",
    "    for i in range(x_train.shape[0]):\n",
    "        dist = euclid_dist(x, x_train[i])\n",
    "        distances.append((x_train[i], dist, y_train[i]))\n",
    "    distances.sort(key=lambda x: x[1])\n",
    "    neighbors = distances[:k]\n",
    "    return neighbors"
   ]
  },
  {
   "cell_type": "markdown",
   "metadata": {},
   "source": [
    "Function `vote` to decide which is the nearest neighbour"
   ]
  },
  {
   "cell_type": "code",
   "execution_count": 8,
   "metadata": {},
   "outputs": [],
   "source": [
    "from collections import Counter\n",
    "def vote(neighbors):\n",
    "    class_counter = Counter()\n",
    "    for neighbor in neighbors:\n",
    "        class_counter[neighbor[2]] += 1\n",
    "    return class_counter.most_common(1)[0][0]"
   ]
  },
  {
   "cell_type": "code",
   "execution_count": 9,
   "metadata": {},
   "outputs": [],
   "source": [
    "def knn_classfier(x_train, y_train, x_test, y_test, k):\n",
    "    \"\"\"\n",
    "    Returns the k nearest neighbors.\n",
    "    Input(s):\n",
    "    - x_train, y_train: the training set and its labels\n",
    "    - x_test, y_test: the testing set and its labels\n",
    "    - k: number of neighbors to return   \n",
    "    \"\"\"\n",
    "    y_predict = np.zeros(y_test.shape)\n",
    "    for i in np.arange(x_test.shape[0]):\n",
    "        neighbors = get_neighbors(x_train, y_train, x_test[i], k)\n",
    "        nearest = vote(neighbors)\n",
    "        y_predict[i] = nearest\n",
    "        \n",
    "    return y_predict"
   ]
  },
  {
   "cell_type": "code",
   "execution_count": 10,
   "metadata": {},
   "outputs": [],
   "source": [
    "def knn_accuracy(y_test, y_predict):\n",
    "    \"\"\"\n",
    "    Returns the accuracy of the predicted classes.\n",
    "    Input(s):\n",
    "    - y_test: the true class \n",
    "    - y_label: the predicted class\n",
    "    \"\"\"\n",
    "    ind = (y_test == y_predict)\n",
    "    return np.average(ind)"
   ]
  },
  {
   "cell_type": "code",
   "execution_count": 11,
   "metadata": {},
   "outputs": [],
   "source": [
    "def knn(x_train, y_train, x_test, y_test, max_k):\n",
    "    \"\"\"\n",
    "    - x_train, y_train: the training set and its labels\n",
    "    - x_test, y_test: the testing set and its labels\n",
    "    - max_k: the maximum k to consider where k is the number of neighbors to return   \n",
    "    \"\"\"\n",
    "    accuracy = []\n",
    "    for i in np.arange(1,max_k+1):\n",
    "        y_predict = knn_classfier(x_train, y_train, x_test, y_test, i)\n",
    "        acc = knn_accuracy(y_test, y_predict)\n",
    "        accuracy.append(acc)\n",
    "    return accuracy"
   ]
  },
  {
   "cell_type": "code",
   "execution_count": 12,
   "metadata": {},
   "outputs": [],
   "source": [
    "acc1_train = knn(x1_train, y1_train, x1_train, y1_train, 30)\n",
    "acc2_train = knn(x2_train, y2_train, x2_train, y2_train, 30)\n",
    "\n",
    "acc1_test = knn(x1_train, y1_train, x1_test, y1_test, 30)\n",
    "acc2_test = knn(x2_train, y2_train, x2_test, y2_test, 30)"
   ]
  },
  {
   "cell_type": "code",
   "execution_count": 13,
   "metadata": {},
   "outputs": [
    {
     "data": {
      "text/plain": [
       "<matplotlib.legend.Legend at 0x23edacc9940>"
      ]
     },
     "execution_count": 13,
     "metadata": {},
     "output_type": "execute_result"
    },
    {
     "data": {
      "image/png": "[encoded data removed]",
      "text/plain": [
       "<Figure size 432x288 with 1 Axes>"
      ]
     },
     "metadata": {
      "needs_background": "light"
     },
     "output_type": "display_data"
    }
   ],
   "source": [
    "plt.plot(acc1_test, color='r')\n",
    "plt.plot(acc2_test, color='b')\n",
    "plt.title('Test Accuracy (Higher Better)')\n",
    "plt.xlabel('k')\n",
    "plt.ylabel('Accuracy')\n",
    "plt.legend(['Raw', 'Histogram'], loc='upper right')"
   ]
  },
  {
   "cell_type": "code",
   "execution_count": 14,
   "metadata": {},
   "outputs": [
    {
     "name": "stdout",
     "output_type": "stream",
     "text": [
      "6\n",
      "0\n"
     ]
    }
   ],
   "source": [
    "print (np.argmax(acc1_test))\n",
    "print (np.argmax(acc2_test))"
   ]
  },
  {
   "cell_type": "markdown",
   "metadata": {},
   "source": [
    "From my implementation of k nearest neighbors, we see that we obtain the highest accuracy of 47.5% for using the raw pixel value features with `k=6` and the smallest non-zero value of `k=4` if we use the histogram features with approximate accuracy 42.5%."
   ]
  }
 ],
 "metadata": {
  "kernelspec": {
   "display_name": "Python 3",
   "language": "python",
   "name": "python3"
  },
  "language_info": {
   "codemirror_mode": {
    "name": "ipython",
    "version": 3
   },
   "file_extension": ".py",
   "mimetype": "text/x-python",
   "name": "python",
   "nbconvert_exporter": "python",
   "pygments_lexer": "ipython3",
   "version": "3.5.6"
  }
 },
 "nbformat": 4,
 "nbformat_minor": 2
}
