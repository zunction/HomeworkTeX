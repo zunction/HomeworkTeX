{
 "cells": [
  {
   "cell_type": "markdown",
   "metadata": {},
   "source": [
    "### Task: K-means"
   ]
  },
  {
   "cell_type": "markdown",
   "metadata": {},
   "source": [
    "**Q1.** To show that the algorithm terminates in a finite number of steps, it suffices to show that there is finitely many indicator matrix $\\gamma$. Let $n$ and $K$ denote the number of samples and clusters respectively, then for each sample, it can be in one of the $K$ classes. Thus for $n$ samples, there are $n^K$ possible ways to cluster them and hence there are finitely many of the indicator matrix. As our loss function $L$ is non-increasing with each update, the algorithm will terminate in finite time."
   ]
  },
  {
   "cell_type": "markdown",
   "metadata": {},
   "source": [
    "**Q2.** \n",
    "\n",
    "We first observe that:\n",
    "$$\\sum_{j=1}^{K}\\left(\\sum_{i=1}^{n}\\gamma_{ij}\\right)W_{j}(x)=\\sum_{j=1}^{K}\\sum_{i=1}^{n}\\gamma_{ij}\\lVert x_i-\\mu_j\\rVert^2 $$\n",
    "\n",
    "$$nB(x) = \\sum_{j=1}^{K}\\sum_{i=1}^{n}\\gamma_{ij}\\lVert \\mu_j-\\hat{x}\\rVert^2$$\n",
    "So,\n",
    "$$\\sum_{j=1}^{K}\\left(\\sum_{i=1}^{n}\\gamma_{ij}\\right)W_{j}(x)+nB(x) = \\sum_{j=1}^{K}\\sum_{i=1}^{n}\\gamma_{ij}\\left[\\lVert x_i-\\mu_j\\rVert^2+\\lVert \\mu_j-\\hat{x}\\rVert^2\\right]$$\n",
    "\n",
    "$$\\sum_{j=1}^{K}\\left(\\sum_{i=1}^{n}\\gamma_{ij}\\right)W_{j}(x)+nB(x) = \\sum_{j=1}^{K}\\sum_{i=1}^{n}\\gamma_{ij}\\left[\\lVert x_i\\rVert^2 -\\mu_j\\rVert^2+\\lVert \\mu_j-\\hat{x}\\rVert^2\\right]$$"
   ]
  },
  {
   "cell_type": "code",
   "execution_count": null,
   "metadata": {},
   "outputs": [],
   "source": []
  },
  {
   "cell_type": "code",
   "execution_count": null,
   "metadata": {},
   "outputs": [],
   "source": []
  },
  {
   "cell_type": "code",
   "execution_count": null,
   "metadata": {},
   "outputs": [],
   "source": []
  },
  {
   "cell_type": "code",
   "execution_count": null,
   "metadata": {},
   "outputs": [],
   "source": []
  },
  {
   "cell_type": "code",
   "execution_count": null,
   "metadata": {},
   "outputs": [],
   "source": []
  },
  {
   "cell_type": "code",
   "execution_count": null,
   "metadata": {},
   "outputs": [],
   "source": []
  },
  {
   "cell_type": "code",
   "execution_count": null,
   "metadata": {},
   "outputs": [],
   "source": []
  },
  {
   "cell_type": "markdown",
   "metadata": {},
   "source": [
    "### Task: Support Vector Machine"
   ]
  },
  {
   "cell_type": "code",
   "execution_count": 1,
   "metadata": {},
   "outputs": [],
   "source": [
    "# import cv2\n",
    "# import os\n",
    "import numpy as np\n",
    "import seaborn as sns\n",
    "import matplotlib.pyplot as plt\n",
    "sns.set()"
   ]
  },
  {
   "cell_type": "code",
   "execution_count": 7,
   "metadata": {},
   "outputs": [],
   "source": [
    "x1 = np.array([1, 1, 2, 4, 6])\n",
    "y1 = np.array([1, 3, 5, 2, 1])\n",
    "\n",
    "x2 = np.array([5, 5, 7, 9, 11, 11])\n",
    "y2 = np.array([5, 9, 5, 1, 3, 7])\n",
    "\n",
    "\n",
    "\n",
    "\n",
    "# ((1, 1),−1), ((1, 3),−1), ((2, 5),−1), ((4, 2),−1),\n",
    "# ((5, 5), 1), ((5, 9), 1), ((6, 1),−1), ((7, 5), 1), ((9, 1), 1), ((11, 3), 1), ((11, 7), 1)"
   ]
  },
  {
   "cell_type": "code",
   "execution_count": 10,
   "metadata": {},
   "outputs": [
    {
     "data": {
      "text/plain": [
       "Text(0.5, 1.0, 'Plot of points')"
      ]
     },
     "execution_count": 10,
     "metadata": {},
     "output_type": "execute_result"
    },
    {
     "data": {
      "image/png": "[encoded data removed]",
      "text/plain": [
       "<Figure size 432x288 with 1 Axes>"
      ]
     },
     "metadata": {
      "needs_background": "light"
     },
     "output_type": "display_data"
    }
   ],
   "source": [
    "plt.scatter(x1, y1, marker ='o')\n",
    "plt.scatter(x2, y2, marker ='^')\n",
    "plt.legend(['+1', '-1'])\n",
    "plt.title('Plot of points')"
   ]
  },
  {
   "cell_type": "code",
   "execution_count": null,
   "metadata": {},
   "outputs": [],
   "source": []
  },
  {
   "cell_type": "code",
   "execution_count": null,
   "metadata": {},
   "outputs": [],
   "source": []
  },
  {
   "cell_type": "code",
   "execution_count": null,
   "metadata": {},
   "outputs": [],
   "source": []
  },
  {
   "cell_type": "code",
   "execution_count": null,
   "metadata": {},
   "outputs": [],
   "source": []
  },
  {
   "cell_type": "code",
   "execution_count": null,
   "metadata": {},
   "outputs": [],
   "source": []
  },
  {
   "cell_type": "code",
   "execution_count": null,
   "metadata": {},
   "outputs": [],
   "source": []
  },
  {
   "cell_type": "code",
   "execution_count": null,
   "metadata": {},
   "outputs": [],
   "source": []
  },
  {
   "cell_type": "code",
   "execution_count": null,
   "metadata": {},
   "outputs": [],
   "source": []
  },
  {
   "cell_type": "code",
   "execution_count": null,
   "metadata": {},
   "outputs": [],
   "source": []
  },
  {
   "cell_type": "code",
   "execution_count": null,
   "metadata": {},
   "outputs": [],
   "source": []
  },
  {
   "cell_type": "code",
   "execution_count": null,
   "metadata": {},
   "outputs": [],
   "source": []
  },
  {
   "cell_type": "code",
   "execution_count": null,
   "metadata": {},
   "outputs": [],
   "source": []
  },
  {
   "cell_type": "code",
   "execution_count": null,
   "metadata": {},
   "outputs": [],
   "source": []
  },
  {
   "cell_type": "code",
   "execution_count": null,
   "metadata": {},
   "outputs": [],
   "source": []
  },
  {
   "cell_type": "code",
   "execution_count": null,
   "metadata": {},
   "outputs": [],
   "source": []
  }
 ],
 "metadata": {
  "kernelspec": {
   "display_name": "Python 3",
   "language": "python",
   "name": "python3"
  },
  "language_info": {
   "codemirror_mode": {
    "name": "ipython",
    "version": 3
   },
   "file_extension": ".py",
   "mimetype": "text/x-python",
   "name": "python",
   "nbconvert_exporter": "python",
   "pygments_lexer": "ipython3",
   "version": "3.5.6"
  }
 },
 "nbformat": 4,
 "nbformat_minor": 2
}
